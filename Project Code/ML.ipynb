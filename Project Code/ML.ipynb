{
  "nbformat": 4,
  "nbformat_minor": 0,
  "metadata": {
    "colab": {
      "name": "572_ML.ipynb",
      "provenance": [],
      "collapsed_sections": []
    },
    "kernelspec": {
      "name": "python3",
      "display_name": "Python 3"
    },
    "language_info": {
      "name": "python"
    },
    "accelerator": "GPU"
  },
  "cells": [
    {
      "cell_type": "code",
      "metadata": {
        "id": "DAkOmIadgwMC"
      },
      "source": [
        "import matplotlib.pyplot as plt\n",
        "import pandas as pd\n",
        "import numpy as np\n",
        "import seaborn as sns\n",
        "%matplotlib inline"
      ],
      "execution_count": 17,
      "outputs": []
    },
    {
      "cell_type": "code",
      "metadata": {
        "id": "2pPts0JAg22I"
      },
      "source": [
        "df1=pd.read_csv('/content/drive/MyDrive/572/semi_processed_5.csv')"
      ],
      "execution_count": 18,
      "outputs": []
    },
    {
      "cell_type": "code",
      "metadata": {
        "colab": {
          "base_uri": "https://localhost:8080/"
        },
        "id": "lmAiJPVLmVLd",
        "outputId": "b0994316-6766-4503-f2a3-0b55740c7ade"
      },
      "source": [
        "df1.columns"
      ],
      "execution_count": 19,
      "outputs": [
        {
          "output_type": "execute_result",
          "data": {
            "text/plain": [
              "Index(['ActionPerformed', 'ConnectionClassification', 'Priority', 'Date-Time',\n",
              "       'SourceIP', 'SourcePort', 'DestinationIP', 'DestinationPort',\n",
              "       'TimeToLive', 'TypeOfService', 'DataGramLength', 'AllFlags', 'Seq',\n",
              "       'Ack', 'Win', 'TCP_length', 'TCP_Options', 'NOP_NOP_TS', 'MSS',\n",
              "       'NOP_WS'],\n",
              "      dtype='object')"
            ]
          },
          "metadata": {
            "tags": []
          },
          "execution_count": 19
        }
      ]
    },
    {
      "cell_type": "code",
      "metadata": {
        "id": "WymsPFuMmOXw"
      },
      "source": [
        "df1.drop(['Date-Time','Seq',\n",
        "       'Ack', 'Win',], axis=1, inplace=True)"
      ],
      "execution_count": 20,
      "outputs": []
    },
    {
      "cell_type": "code",
      "metadata": {
        "id": "oH54ds8jm2VW"
      },
      "source": [
        "df1['ActionPerformed'] = df1['ActionPerformed'].str.replace('<', '') "
      ],
      "execution_count": 31,
      "outputs": []
    },
    {
      "cell_type": "code",
      "metadata": {
        "id": "5pxSnA83oG3g"
      },
      "source": [
        "df1.columns = df1.columns.str.replace(' ', '') "
      ],
      "execution_count": 32,
      "outputs": []
    },
    {
      "cell_type": "code",
      "metadata": {
        "id": "otf2lokohPY_"
      },
      "source": [
        "df=pd.get_dummies(data=df1, columns=['ActionPerformed', 'Priority',\n",
        "       'SourceIP','DestinationIP', 'DestinationPort',\n",
        "       'TimeToLive', 'TypeOfService', 'DataGramLength', 'AllFlags', 'TCP_length', 'TCP_Options','MSS',\n",
        "       'NOP_WS'], drop_first=True)"
      ],
      "execution_count": 33,
      "outputs": []
    },
    {
      "cell_type": "code",
      "metadata": {
        "colab": {
          "base_uri": "https://localhost:8080/"
        },
        "id": "rgrjLoeChZ-o",
        "outputId": "bbe6e4c9-ee3b-45da-cc1c-88b2b5a5a60e"
      },
      "source": [
        "df.columns"
      ],
      "execution_count": 34,
      "outputs": [
        {
          "output_type": "execute_result",
          "data": {
            "text/plain": [
              "Index(['ConnectionClassification', 'SourcePort', 'NOP_NOP_TS',\n",
              "       'ActionPerformed_b'(http_inspect)BAREBYTEUNICODEENCODING'',\n",
              "       'ActionPerformed_b'(http_inspect)DOUBLEDECODINGATTACK'',\n",
              "       'ActionPerformed_b'(http_inspect)IISUNICODECODEPOINTENCODING'',\n",
              "       'ActionPerformed_b'(http_inspect)OVERSIZECHUNKENCODING'',\n",
              "       'ActionPerformed_b'(http_inspect)OVERSIZEREQUEST-URIDIRECTORY'',\n",
              "       'ActionPerformed_b'(http_inspect)UENCODING'',\n",
              "       'ActionPerformed_b'(http_inspect)WEBROOTDIRECTORYTRAVERSAL'',\n",
              "       ...\n",
              "       'TCP_length_28.0', 'TCP_length_32.0', 'TCP_length_40.0',\n",
              "       'TCP_Options_1.0', 'TCP_Options_3.0', 'TCP_Options_5.0', 'MSS_1160',\n",
              "       'MSS_1460', 'NOP_WS_3', 'NOP_WS_6'],\n",
              "      dtype='object', length=2661)"
            ]
          },
          "metadata": {
            "tags": []
          },
          "execution_count": 34
        }
      ]
    },
    {
      "cell_type": "code",
      "metadata": {
        "id": "cM1RUJhro9-C"
      },
      "source": [
        "df.to_csv(\"data.csv\", index=False)"
      ],
      "execution_count": 47,
      "outputs": []
    },
    {
      "cell_type": "code",
      "metadata": {
        "id": "Geuf_EhvhlIh"
      },
      "source": [
        "from sklearn.model_selection import train_test_split"
      ],
      "execution_count": 35,
      "outputs": []
    },
    {
      "cell_type": "code",
      "metadata": {
        "id": "yStfluBRhpUV"
      },
      "source": [
        "X=df.drop(['ConnectionClassification'], axis=1)\n",
        "y=df['ConnectionClassification']"
      ],
      "execution_count": 36,
      "outputs": []
    },
    {
      "cell_type": "code",
      "metadata": {
        "colab": {
          "base_uri": "https://localhost:8080/"
        },
        "id": "iunBfHEdixPN",
        "outputId": "5bdf2e13-e983-4f1f-8a58-468d0e876ea9"
      },
      "source": [
        "X.columns"
      ],
      "execution_count": 37,
      "outputs": [
        {
          "output_type": "execute_result",
          "data": {
            "text/plain": [
              "Index(['SourcePort', 'NOP_NOP_TS',\n",
              "       'ActionPerformed_b'(http_inspect)BAREBYTEUNICODEENCODING'',\n",
              "       'ActionPerformed_b'(http_inspect)DOUBLEDECODINGATTACK'',\n",
              "       'ActionPerformed_b'(http_inspect)IISUNICODECODEPOINTENCODING'',\n",
              "       'ActionPerformed_b'(http_inspect)OVERSIZECHUNKENCODING'',\n",
              "       'ActionPerformed_b'(http_inspect)OVERSIZEREQUEST-URIDIRECTORY'',\n",
              "       'ActionPerformed_b'(http_inspect)UENCODING'',\n",
              "       'ActionPerformed_b'(http_inspect)WEBROOTDIRECTORYTRAVERSAL'',\n",
              "       'ActionPerformed_b'(smtp)Attemptedheadernamebufferoverflow:121charsbeforecolon'',\n",
              "       ...\n",
              "       'TCP_length_28.0', 'TCP_length_32.0', 'TCP_length_40.0',\n",
              "       'TCP_Options_1.0', 'TCP_Options_3.0', 'TCP_Options_5.0', 'MSS_1160',\n",
              "       'MSS_1460', 'NOP_WS_3', 'NOP_WS_6'],\n",
              "      dtype='object', length=2660)"
            ]
          },
          "metadata": {
            "tags": []
          },
          "execution_count": 37
        }
      ]
    },
    {
      "cell_type": "code",
      "metadata": {
        "id": "f8a_KK5dhrwi"
      },
      "source": [
        "X_train, X_test, y_train, y_test = train_test_split(X, y, test_size=0.25, random_state=0)"
      ],
      "execution_count": 38,
      "outputs": []
    },
    {
      "cell_type": "code",
      "metadata": {
        "id": "UXefwk4ehb5f"
      },
      "source": [
        "import time\n",
        "from xgboost import XGBClassifier"
      ],
      "execution_count": 39,
      "outputs": []
    },
    {
      "cell_type": "code",
      "metadata": {
        "id": "NS0w9RT6hhCV"
      },
      "source": [
        "model = XGBClassifier(tree_method = \"gpu_hist\",early_stopping=10,n_estimators=500, random_state=0)"
      ],
      "execution_count": 42,
      "outputs": []
    },
    {
      "cell_type": "code",
      "metadata": {
        "colab": {
          "base_uri": "https://localhost:8080/"
        },
        "id": "7v1F0XhXj9Mo",
        "outputId": "4f40d4af-0488-4027-b0cc-76c534585b21"
      },
      "source": [
        "# fit the model\n",
        "%time model.fit(X_train, y_train)"
      ],
      "execution_count": 43,
      "outputs": [
        {
          "output_type": "stream",
          "text": [
            "CPU times: user 5.52 s, sys: 522 ms, total: 6.04 s\n",
            "Wall time: 6.02 s\n"
          ],
          "name": "stdout"
        },
        {
          "output_type": "execute_result",
          "data": {
            "text/plain": [
              "XGBClassifier(base_score=0.5, booster='gbtree', colsample_bylevel=1,\n",
              "              colsample_bynode=1, colsample_bytree=1, early_stopping=10,\n",
              "              gamma=0, learning_rate=0.1, max_delta_step=0, max_depth=3,\n",
              "              min_child_weight=1, missing=None, n_estimators=500, n_jobs=1,\n",
              "              nthread=None, objective='binary:logistic', random_state=0,\n",
              "              reg_alpha=0, reg_lambda=1, scale_pos_weight=1, seed=None,\n",
              "              silent=None, subsample=1, tree_method='gpu_hist', verbosity=1)"
            ]
          },
          "metadata": {
            "tags": []
          },
          "execution_count": 43
        }
      ]
    },
    {
      "cell_type": "code",
      "metadata": {
        "id": "rVZlpwi3kCi4"
      },
      "source": [
        "from sklearn.metrics import classification_report,confusion_matrix,accuracy_score"
      ],
      "execution_count": 44,
      "outputs": []
    },
    {
      "cell_type": "code",
      "metadata": {
        "colab": {
          "base_uri": "https://localhost:8080/"
        },
        "id": "vBwnZpWYomYY",
        "outputId": "3fb94bba-c12f-45ec-a110-e3d24b0a6f44"
      },
      "source": [
        "# XGB model assessment\n",
        "pred_test = model.predict(X_test)\n",
        "pred_train = model.predict(X_train)\n",
        "\n",
        "print(classification_report(y_test,pred_test))"
      ],
      "execution_count": 45,
      "outputs": [
        {
          "output_type": "stream",
          "text": [
            "              precision    recall  f1-score   support\n",
            "\n",
            "           0       1.00      1.00      1.00      1666\n",
            "           1       1.00      1.00      1.00      4157\n",
            "\n",
            "    accuracy                           1.00      5823\n",
            "   macro avg       1.00      1.00      1.00      5823\n",
            "weighted avg       1.00      1.00      1.00      5823\n",
            "\n"
          ],
          "name": "stdout"
        }
      ]
    },
    {
      "cell_type": "code",
      "metadata": {
        "colab": {
          "base_uri": "https://localhost:8080/"
        },
        "id": "2yB28NTpoqfE",
        "outputId": "38e59c65-ac2f-4dcc-cbd6-dbcd4687b769"
      },
      "source": [
        "print('Train Accuracy: ', accuracy_score(y_train, pred_train))\n",
        "print('Test Accuraccy: ', accuracy_score(y_test, pred_test))"
      ],
      "execution_count": 46,
      "outputs": [
        {
          "output_type": "stream",
          "text": [
            "Train Accuracy:  1.0\n",
            "Test Accuraccy:  1.0\n"
          ],
          "name": "stdout"
        }
      ]
    },
    {
      "cell_type": "code",
      "metadata": {
        "id": "QNbG9ZDqovap"
      },
      "source": [
        "import pickle"
      ],
      "execution_count": 48,
      "outputs": []
    },
    {
      "cell_type": "code",
      "metadata": {
        "id": "f285jvkDq1_Z"
      },
      "source": [
        "# save the XGB model to disk\n",
        "filename = 'xgb_model.pkl'\n",
        "pickle.dump(model, open(filename, 'wb'))"
      ],
      "execution_count": 50,
      "outputs": []
    },
    {
      "cell_type": "code",
      "metadata": {
        "id": "-m1ybN5NrliA"
      },
      "source": [
        "from sklearn.ensemble import RandomForestClassifier,AdaBoostClassifier"
      ],
      "execution_count": 51,
      "outputs": []
    },
    {
      "cell_type": "code",
      "metadata": {
        "id": "wjGjI6M2rugz"
      },
      "source": [
        "rfc = RandomForestClassifier(n_estimators=100)"
      ],
      "execution_count": 53,
      "outputs": []
    },
    {
      "cell_type": "code",
      "metadata": {
        "colab": {
          "base_uri": "https://localhost:8080/"
        },
        "id": "IzpiEPwZrydy",
        "outputId": "a1ec84df-9c3b-4adb-adeb-d5a17e71734d"
      },
      "source": [
        "rfc.fit(X_train,y_train)"
      ],
      "execution_count": 54,
      "outputs": [
        {
          "output_type": "execute_result",
          "data": {
            "text/plain": [
              "RandomForestClassifier(bootstrap=True, ccp_alpha=0.0, class_weight=None,\n",
              "                       criterion='gini', max_depth=None, max_features='auto',\n",
              "                       max_leaf_nodes=None, max_samples=None,\n",
              "                       min_impurity_decrease=0.0, min_impurity_split=None,\n",
              "                       min_samples_leaf=1, min_samples_split=2,\n",
              "                       min_weight_fraction_leaf=0.0, n_estimators=100,\n",
              "                       n_jobs=None, oob_score=False, random_state=None,\n",
              "                       verbose=0, warm_start=False)"
            ]
          },
          "metadata": {
            "tags": []
          },
          "execution_count": 54
        }
      ]
    },
    {
      "cell_type": "code",
      "metadata": {
        "colab": {
          "base_uri": "https://localhost:8080/"
        },
        "id": "RiS0J8HWr0Z4",
        "outputId": "38980d2d-a75d-4d4b-a83e-ad82b38c2a91"
      },
      "source": [
        "# RFC model assessment\n",
        "pred_test_rfc = rfc.predict(X_test)\n",
        "pred_train_rfc = rfc.predict(X_train)\n",
        "\n",
        "print(classification_report(y_test,pred_test_rfc))"
      ],
      "execution_count": 55,
      "outputs": [
        {
          "output_type": "stream",
          "text": [
            "              precision    recall  f1-score   support\n",
            "\n",
            "           0       1.00      1.00      1.00      1666\n",
            "           1       1.00      1.00      1.00      4157\n",
            "\n",
            "    accuracy                           1.00      5823\n",
            "   macro avg       1.00      1.00      1.00      5823\n",
            "weighted avg       1.00      1.00      1.00      5823\n",
            "\n"
          ],
          "name": "stdout"
        }
      ]
    },
    {
      "cell_type": "code",
      "metadata": {
        "colab": {
          "base_uri": "https://localhost:8080/"
        },
        "id": "Lfskvl-isE1l",
        "outputId": "7907fd06-38eb-4dc7-b106-9f77383acc84"
      },
      "source": [
        "print('Train Accuracy: ', accuracy_score(y_train, pred_train_rfc))\n",
        "print('Test Accuraccy: ', accuracy_score(y_test, pred_test_rfc))"
      ],
      "execution_count": 56,
      "outputs": [
        {
          "output_type": "stream",
          "text": [
            "Train Accuracy:  1.0\n",
            "Test Accuraccy:  1.0\n"
          ],
          "name": "stdout"
        }
      ]
    },
    {
      "cell_type": "code",
      "metadata": {
        "id": "s9Zrceg-ssXw"
      },
      "source": [
        "# save the RFC model to disk\n",
        "filename = 'rfc_model.pkl'\n",
        "pickle.dump(model, open(filename, 'wb'))"
      ],
      "execution_count": 61,
      "outputs": []
    },
    {
      "cell_type": "code",
      "metadata": {
        "id": "lZ6AJESjsPmQ"
      },
      "source": [
        "ada=AdaBoostClassifier(n_estimators=100)"
      ],
      "execution_count": 57,
      "outputs": []
    },
    {
      "cell_type": "code",
      "metadata": {
        "colab": {
          "base_uri": "https://localhost:8080/"
        },
        "id": "n5mPRm2NsUx3",
        "outputId": "916b2124-031c-48f1-afbd-7bb5faeaa89a"
      },
      "source": [
        "ada.fit(X_train,y_train)"
      ],
      "execution_count": 58,
      "outputs": [
        {
          "output_type": "execute_result",
          "data": {
            "text/plain": [
              "AdaBoostClassifier(algorithm='SAMME.R', base_estimator=None, learning_rate=1.0,\n",
              "                   n_estimators=100, random_state=None)"
            ]
          },
          "metadata": {
            "tags": []
          },
          "execution_count": 58
        }
      ]
    },
    {
      "cell_type": "code",
      "metadata": {
        "colab": {
          "base_uri": "https://localhost:8080/"
        },
        "id": "DZKkujBTsWte",
        "outputId": "8ceec7d3-a18e-4858-cc68-4b95bf74dffe"
      },
      "source": [
        "# ADB model assessment\n",
        "pred_test_adb = ada.predict(X_test)\n",
        "pred_train_adb = ada.predict(X_train)\n",
        "\n",
        "print(classification_report(y_test,pred_test_adb))"
      ],
      "execution_count": 59,
      "outputs": [
        {
          "output_type": "stream",
          "text": [
            "              precision    recall  f1-score   support\n",
            "\n",
            "           0       1.00      1.00      1.00      1666\n",
            "           1       1.00      1.00      1.00      4157\n",
            "\n",
            "    accuracy                           1.00      5823\n",
            "   macro avg       1.00      1.00      1.00      5823\n",
            "weighted avg       1.00      1.00      1.00      5823\n",
            "\n"
          ],
          "name": "stdout"
        }
      ]
    },
    {
      "cell_type": "code",
      "metadata": {
        "colab": {
          "base_uri": "https://localhost:8080/"
        },
        "id": "4_inOCfXsjGN",
        "outputId": "e6ded89b-7379-4335-a04c-716d8016e031"
      },
      "source": [
        "print('Train Accuracy: ', accuracy_score(y_train, pred_train_adb))\n",
        "print('Test Accuraccy: ', accuracy_score(y_test, pred_test_adb))"
      ],
      "execution_count": 60,
      "outputs": [
        {
          "output_type": "stream",
          "text": [
            "Train Accuracy:  1.0\n",
            "Test Accuraccy:  1.0\n"
          ],
          "name": "stdout"
        }
      ]
    },
    {
      "cell_type": "code",
      "metadata": {
        "id": "RszIobUmsoDx"
      },
      "source": [
        "# save the ADB model to disk\n",
        "filename = 'adb_model.pkl'\n",
        "pickle.dump(model, open(filename, 'wb'))"
      ],
      "execution_count": 62,
      "outputs": []
    }
  ]
}