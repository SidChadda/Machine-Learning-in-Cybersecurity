{
  "nbformat": 4,
  "nbformat_minor": 0,
  "metadata": {
    "colab": {
      "name": "572_Preprocessing.ipynb",
      "provenance": [],
      "collapsed_sections": []
    },
    "kernelspec": {
      "name": "python3",
      "display_name": "Python 3"
    },
    "language_info": {
      "name": "python"
    }
  },
  "cells": [
    {
      "cell_type": "code",
      "metadata": {
        "id": "dVjxoZZH7xau"
      },
      "source": [
        "import matplotlib.pyplot as plt\n",
        "import pandas as pd\n",
        "import numpy as np\n",
        "import seaborn as sns\n",
        "%matplotlib inline"
      ],
      "execution_count": 5,
      "outputs": []
    },
    {
      "cell_type": "code",
      "metadata": {
        "id": "dWMHJXBm-477"
      },
      "source": [
        "df=pd.read_csv(\"/content/drive/MyDrive/572/parsed_file.csv\")"
      ],
      "execution_count": 6,
      "outputs": []
    },
    {
      "cell_type": "code",
      "metadata": {
        "colab": {
          "base_uri": "https://localhost:8080/"
        },
        "id": "aUioGfqaxHWC",
        "outputId": "a0dd6653-20a0-409b-8146-a8690729281d"
      },
      "source": [
        "from google.colab import drive\n",
        "drive.mount('/content/drive')"
      ],
      "execution_count": 7,
      "outputs": [
        {
          "output_type": "stream",
          "text": [
            "Drive already mounted at /content/drive; to attempt to forcibly remount, call drive.mount(\"/content/drive\", force_remount=True).\n"
          ],
          "name": "stdout"
        }
      ]
    },
    {
      "cell_type": "code",
      "metadata": {
        "colab": {
          "base_uri": "https://localhost:8080/",
          "height": 576
        },
        "id": "aFOAsENX_EF1",
        "outputId": "b3dc151d-ad8e-497a-f13e-3106ec7e4dee"
      },
      "source": [
        "df.head()"
      ],
      "execution_count": 8,
      "outputs": [
        {
          "output_type": "execute_result",
          "data": {
            "text/html": [
              "<div>\n",
              "<style scoped>\n",
              "    .dataframe tbody tr th:only-of-type {\n",
              "        vertical-align: middle;\n",
              "    }\n",
              "\n",
              "    .dataframe tbody tr th {\n",
              "        vertical-align: top;\n",
              "    }\n",
              "\n",
              "    .dataframe thead th {\n",
              "        text-align: right;\n",
              "    }\n",
              "</style>\n",
              "<table border=\"1\" class=\"dataframe\">\n",
              "  <thead>\n",
              "    <tr style=\"text-align: right;\">\n",
              "      <th></th>\n",
              "      <th>Action Performed</th>\n",
              "      <th>Connection Classification</th>\n",
              "      <th>Priority</th>\n",
              "      <th>Date-Time</th>\n",
              "      <th>Source IP</th>\n",
              "      <th>Source Port</th>\n",
              "      <th>Destination IP</th>\n",
              "      <th>Destination Port</th>\n",
              "      <th>Protocol</th>\n",
              "      <th>TimeToLive</th>\n",
              "      <th>TypeOfService</th>\n",
              "      <th>ID</th>\n",
              "      <th>IP Length</th>\n",
              "      <th>DataGram Length</th>\n",
              "      <th>Frag Offset</th>\n",
              "      <th>Frag Size</th>\n",
              "      <th>Flag -2</th>\n",
              "      <th>Flag-1</th>\n",
              "      <th>Flag-U</th>\n",
              "      <th>Flag-A</th>\n",
              "      <th>Flag-P</th>\n",
              "      <th>Flag-R</th>\n",
              "      <th>Flag-S</th>\n",
              "      <th>Flag-F</th>\n",
              "      <th>All Flags</th>\n",
              "      <th>Seq</th>\n",
              "      <th>Ack</th>\n",
              "      <th>Win</th>\n",
              "      <th>TCP length</th>\n",
              "      <th>TCP Options</th>\n",
              "      <th>NOP NOP TS</th>\n",
              "      <th>MSS</th>\n",
              "      <th>NOP WS</th>\n",
              "      <th>SackOK TS</th>\n",
              "    </tr>\n",
              "  </thead>\n",
              "  <tbody>\n",
              "    <tr>\n",
              "      <th>0</th>\n",
              "      <td>TCP Timestamp is outside of PAWS window</td>\n",
              "      <td></td>\n",
              "      <td>3</td>\n",
              "      <td>1573234989</td>\n",
              "      <td>10.1.60.203</td>\n",
              "      <td>57764</td>\n",
              "      <td>7.204.241.161</td>\n",
              "      <td>25</td>\n",
              "      <td>TCP</td>\n",
              "      <td>63</td>\n",
              "      <td>0x0</td>\n",
              "      <td>51372</td>\n",
              "      <td>20</td>\n",
              "      <td>40</td>\n",
              "      <td>NaN</td>\n",
              "      <td></td>\n",
              "      <td>*</td>\n",
              "      <td>*</td>\n",
              "      <td>*</td>\n",
              "      <td>*</td>\n",
              "      <td>*</td>\n",
              "      <td>R</td>\n",
              "      <td>*</td>\n",
              "      <td>*</td>\n",
              "      <td>*****R**</td>\n",
              "      <td>0x787AFC70</td>\n",
              "      <td>0x0</td>\n",
              "      <td>0x0</td>\n",
              "      <td>20.0</td>\n",
              "      <td>NaN</td>\n",
              "      <td>NaN</td>\n",
              "      <td>NaN</td>\n",
              "      <td>NaN</td>\n",
              "      <td>NaN</td>\n",
              "    </tr>\n",
              "    <tr>\n",
              "      <th>1</th>\n",
              "      <td>TCP Timestamp is outside of PAWS window</td>\n",
              "      <td></td>\n",
              "      <td>3</td>\n",
              "      <td>1573235154</td>\n",
              "      <td>7.204.241.161</td>\n",
              "      <td>25</td>\n",
              "      <td>10.1.60.203</td>\n",
              "      <td>50176</td>\n",
              "      <td>TCP</td>\n",
              "      <td>64</td>\n",
              "      <td>0x0</td>\n",
              "      <td>1283</td>\n",
              "      <td>20</td>\n",
              "      <td>40</td>\n",
              "      <td>NaN</td>\n",
              "      <td></td>\n",
              "      <td>*</td>\n",
              "      <td>*</td>\n",
              "      <td>*</td>\n",
              "      <td>*</td>\n",
              "      <td>*</td>\n",
              "      <td>R</td>\n",
              "      <td>*</td>\n",
              "      <td>*</td>\n",
              "      <td>*****R**</td>\n",
              "      <td>0xE06DEE6F</td>\n",
              "      <td>0x0</td>\n",
              "      <td>0x0</td>\n",
              "      <td>20.0</td>\n",
              "      <td>NaN</td>\n",
              "      <td>NaN</td>\n",
              "      <td>NaN</td>\n",
              "      <td>NaN</td>\n",
              "      <td>NaN</td>\n",
              "    </tr>\n",
              "    <tr>\n",
              "      <th>2</th>\n",
              "      <td>TCP Timestamp is outside of PAWS window</td>\n",
              "      <td></td>\n",
              "      <td>3</td>\n",
              "      <td>1573235154</td>\n",
              "      <td>7.204.241.161</td>\n",
              "      <td>25</td>\n",
              "      <td>10.1.60.203</td>\n",
              "      <td>50176</td>\n",
              "      <td>TCP</td>\n",
              "      <td>64</td>\n",
              "      <td>0x0</td>\n",
              "      <td>1284</td>\n",
              "      <td>20</td>\n",
              "      <td>40</td>\n",
              "      <td>NaN</td>\n",
              "      <td></td>\n",
              "      <td>*</td>\n",
              "      <td>*</td>\n",
              "      <td>*</td>\n",
              "      <td>*</td>\n",
              "      <td>*</td>\n",
              "      <td>R</td>\n",
              "      <td>*</td>\n",
              "      <td>*</td>\n",
              "      <td>*****R**</td>\n",
              "      <td>0xE06DEE6F</td>\n",
              "      <td>0x0</td>\n",
              "      <td>0x0</td>\n",
              "      <td>20.0</td>\n",
              "      <td>NaN</td>\n",
              "      <td>NaN</td>\n",
              "      <td>NaN</td>\n",
              "      <td>NaN</td>\n",
              "      <td>NaN</td>\n",
              "    </tr>\n",
              "    <tr>\n",
              "      <th>3</th>\n",
              "      <td>TCP Timestamp is outside of PAWS window</td>\n",
              "      <td></td>\n",
              "      <td>3</td>\n",
              "      <td>1573235222</td>\n",
              "      <td>154.241.88.201</td>\n",
              "      <td>80</td>\n",
              "      <td>3.75.190.181</td>\n",
              "      <td>60708</td>\n",
              "      <td>TCP</td>\n",
              "      <td>63</td>\n",
              "      <td>0x0</td>\n",
              "      <td>21269</td>\n",
              "      <td>20</td>\n",
              "      <td>52</td>\n",
              "      <td>NaN</td>\n",
              "      <td></td>\n",
              "      <td>*</td>\n",
              "      <td>*</td>\n",
              "      <td>*</td>\n",
              "      <td>A</td>\n",
              "      <td>*</td>\n",
              "      <td>*</td>\n",
              "      <td>*</td>\n",
              "      <td>*</td>\n",
              "      <td>***A****</td>\n",
              "      <td>0xE20FC272</td>\n",
              "      <td>0x567079D3</td>\n",
              "      <td>0x5B</td>\n",
              "      <td>32.0</td>\n",
              "      <td>3.0</td>\n",
              "      <td>66621799 74830877</td>\n",
              "      <td></td>\n",
              "      <td></td>\n",
              "      <td></td>\n",
              "    </tr>\n",
              "    <tr>\n",
              "      <th>4</th>\n",
              "      <td>TCP Timestamp is outside of PAWS window</td>\n",
              "      <td></td>\n",
              "      <td>3</td>\n",
              "      <td>1573235222</td>\n",
              "      <td>154.241.88.201</td>\n",
              "      <td>80</td>\n",
              "      <td>3.75.190.181</td>\n",
              "      <td>60708</td>\n",
              "      <td>TCP</td>\n",
              "      <td>63</td>\n",
              "      <td>0x0</td>\n",
              "      <td>21270</td>\n",
              "      <td>20</td>\n",
              "      <td>455</td>\n",
              "      <td>NaN</td>\n",
              "      <td></td>\n",
              "      <td>*</td>\n",
              "      <td>*</td>\n",
              "      <td>*</td>\n",
              "      <td>A</td>\n",
              "      <td>P</td>\n",
              "      <td>*</td>\n",
              "      <td>*</td>\n",
              "      <td>*</td>\n",
              "      <td>***AP***</td>\n",
              "      <td>0xE20FC272</td>\n",
              "      <td>0x567079D3</td>\n",
              "      <td>0x5B</td>\n",
              "      <td>32.0</td>\n",
              "      <td>3.0</td>\n",
              "      <td>66621799 74830877</td>\n",
              "      <td></td>\n",
              "      <td></td>\n",
              "      <td></td>\n",
              "    </tr>\n",
              "  </tbody>\n",
              "</table>\n",
              "</div>"
            ],
            "text/plain": [
              "                             Action Performed  ...  SackOK TS\n",
              "0   TCP Timestamp is outside of PAWS window    ...        NaN\n",
              "1   TCP Timestamp is outside of PAWS window    ...        NaN\n",
              "2   TCP Timestamp is outside of PAWS window    ...        NaN\n",
              "3   TCP Timestamp is outside of PAWS window    ...           \n",
              "4   TCP Timestamp is outside of PAWS window    ...           \n",
              "\n",
              "[5 rows x 34 columns]"
            ]
          },
          "metadata": {
            "tags": []
          },
          "execution_count": 8
        }
      ]
    },
    {
      "cell_type": "code",
      "metadata": {
        "colab": {
          "base_uri": "https://localhost:8080/"
        },
        "id": "oPzQozZQ_GER",
        "outputId": "7df9332c-eb9c-4d01-912d-70e91c6360a6"
      },
      "source": [
        "df.columns"
      ],
      "execution_count": 9,
      "outputs": [
        {
          "output_type": "execute_result",
          "data": {
            "text/plain": [
              "Index(['Action Performed', 'Connection Classification', 'Priority',\n",
              "       'Date-Time', 'Source IP', 'Source Port', 'Destination IP',\n",
              "       'Destination Port', 'Protocol', 'TimeToLive', 'TypeOfService', 'ID',\n",
              "       'IP Length', 'DataGram Length', ' Frag Offset', ' Frag Size',\n",
              "       ' Flag -2', 'Flag-1', ' Flag-U', ' Flag-A', ' Flag-P', ' Flag-R',\n",
              "       ' Flag-S', ' Flag-F', 'All Flags', 'Seq', ' Ack', ' Win', ' TCP length',\n",
              "       ' TCP Options', ' NOP NOP TS', ' MSS', ' NOP WS', ' SackOK TS'],\n",
              "      dtype='object')"
            ]
          },
          "metadata": {
            "tags": []
          },
          "execution_count": 9
        }
      ]
    },
    {
      "cell_type": "code",
      "metadata": {
        "id": "0yuNw0sN_KZ3"
      },
      "source": [
        "df['Connection Classification'].fillna(value=0, inplace=True)"
      ],
      "execution_count": 10,
      "outputs": []
    },
    {
      "cell_type": "code",
      "metadata": {
        "colab": {
          "base_uri": "https://localhost:8080/"
        },
        "id": "S1JwuhrA_Vb6",
        "outputId": "4f467e71-045b-47ab-bbd1-7745d44e0e2f"
      },
      "source": [
        "df.info()"
      ],
      "execution_count": 11,
      "outputs": [
        {
          "output_type": "stream",
          "text": [
            "<class 'pandas.core.frame.DataFrame'>\n",
            "RangeIndex: 25741 entries, 0 to 25740\n",
            "Data columns (total 34 columns):\n",
            " #   Column                     Non-Null Count  Dtype  \n",
            "---  ------                     --------------  -----  \n",
            " 0   Action Performed           25741 non-null  object \n",
            " 1   Connection Classification  25741 non-null  object \n",
            " 2   Priority                   25741 non-null  int64  \n",
            " 3   Date-Time                  25741 non-null  int64  \n",
            " 4   Source IP                  25741 non-null  object \n",
            " 5   Source Port                25741 non-null  object \n",
            " 6   Destination IP             25741 non-null  object \n",
            " 7   Destination Port           25741 non-null  object \n",
            " 8   Protocol                   25741 non-null  object \n",
            " 9   TimeToLive                 25741 non-null  int64  \n",
            " 10  TypeOfService              25741 non-null  object \n",
            " 11  ID                         25741 non-null  int64  \n",
            " 12  IP Length                  25741 non-null  int64  \n",
            " 13  DataGram Length            25741 non-null  int64  \n",
            " 14   Frag Offset               816 non-null    object \n",
            " 15   Frag Size                 24108 non-null  object \n",
            " 16   Flag -2                   23292 non-null  object \n",
            " 17  Flag-1                     23292 non-null  object \n",
            " 18   Flag-U                    23292 non-null  object \n",
            " 19   Flag-A                    23292 non-null  object \n",
            " 20   Flag-P                    23292 non-null  object \n",
            " 21   Flag-R                    23292 non-null  object \n",
            " 22   Flag-S                    23292 non-null  object \n",
            " 23   Flag-F                    23292 non-null  object \n",
            " 24  All Flags                  23292 non-null  object \n",
            " 25  Seq                        23292 non-null  object \n",
            " 26   Ack                       23292 non-null  object \n",
            " 27   Win                       23292 non-null  object \n",
            " 28   TCP length                23292 non-null  float64\n",
            " 29   TCP Options               17979 non-null  float64\n",
            " 30   NOP NOP TS                17979 non-null  object \n",
            " 31   MSS                       17979 non-null  object \n",
            " 32   NOP WS                    17979 non-null  object \n",
            " 33   SackOK TS                 17979 non-null  object \n",
            "dtypes: float64(2), int64(6), object(26)\n",
            "memory usage: 6.7+ MB\n"
          ],
          "name": "stdout"
        }
      ]
    },
    {
      "cell_type": "code",
      "metadata": {
        "colab": {
          "base_uri": "https://localhost:8080/"
        },
        "id": "jK_45z6O_XEG",
        "outputId": "c26e456b-f9f8-4f59-9d60-69f53ae47346"
      },
      "source": [
        "df.isnull().sum()"
      ],
      "execution_count": 12,
      "outputs": [
        {
          "output_type": "execute_result",
          "data": {
            "text/plain": [
              "Action Performed                 0\n",
              "Connection Classification        0\n",
              "Priority                         0\n",
              "Date-Time                        0\n",
              "Source IP                        0\n",
              "Source Port                      0\n",
              "Destination IP                   0\n",
              "Destination Port                 0\n",
              "Protocol                         0\n",
              "TimeToLive                       0\n",
              "TypeOfService                    0\n",
              "ID                               0\n",
              "IP Length                        0\n",
              "DataGram Length                  0\n",
              " Frag Offset                 24925\n",
              " Frag Size                    1633\n",
              " Flag -2                      2449\n",
              "Flag-1                        2449\n",
              " Flag-U                       2449\n",
              " Flag-A                       2449\n",
              " Flag-P                       2449\n",
              " Flag-R                       2449\n",
              " Flag-S                       2449\n",
              " Flag-F                       2449\n",
              "All Flags                     2449\n",
              "Seq                           2449\n",
              " Ack                          2449\n",
              " Win                          2449\n",
              " TCP length                   2449\n",
              " TCP Options                  7762\n",
              " NOP NOP TS                   7762\n",
              " MSS                          7762\n",
              " NOP WS                       7762\n",
              " SackOK TS                    7762\n",
              "dtype: int64"
            ]
          },
          "metadata": {
            "tags": []
          },
          "execution_count": 12
        }
      ]
    },
    {
      "cell_type": "code",
      "metadata": {
        "colab": {
          "base_uri": "https://localhost:8080/"
        },
        "id": "aYPTIujmAh_e",
        "outputId": "1146f924-3aa2-401e-a652-c6a85e233ab6"
      },
      "source": [
        "df.columns"
      ],
      "execution_count": 13,
      "outputs": [
        {
          "output_type": "execute_result",
          "data": {
            "text/plain": [
              "Index(['Action Performed', 'Connection Classification', 'Priority',\n",
              "       'Date-Time', 'Source IP', 'Source Port', 'Destination IP',\n",
              "       'Destination Port', 'Protocol', 'TimeToLive', 'TypeOfService', 'ID',\n",
              "       'IP Length', 'DataGram Length', ' Frag Offset', ' Frag Size',\n",
              "       ' Flag -2', 'Flag-1', ' Flag-U', ' Flag-A', ' Flag-P', ' Flag-R',\n",
              "       ' Flag-S', ' Flag-F', 'All Flags', 'Seq', ' Ack', ' Win', ' TCP length',\n",
              "       ' TCP Options', ' NOP NOP TS', ' MSS', ' NOP WS', ' SackOK TS'],\n",
              "      dtype='object')"
            ]
          },
          "metadata": {
            "tags": []
          },
          "execution_count": 13
        }
      ]
    },
    {
      "cell_type": "code",
      "metadata": {
        "id": "Gp71c6iq_s_Z"
      },
      "source": [
        "df.drop([' Frag Offset', ' Frag Size',\n",
        "       ' Flag -2', 'Flag-1', ' Flag-U', ' Flag-A', ' Flag-P', ' Flag-R',\n",
        "       ' Flag-S', ' Flag-F'], axis = 1, inplace=True)"
      ],
      "execution_count": 14,
      "outputs": []
    },
    {
      "cell_type": "code",
      "metadata": {
        "colab": {
          "base_uri": "https://localhost:8080/"
        },
        "id": "koTLzGjL_Zlz",
        "outputId": "48f2fb50-49ea-4773-ba32-f5a552e65214"
      },
      "source": [
        "df.isnull().sum()"
      ],
      "execution_count": 15,
      "outputs": [
        {
          "output_type": "execute_result",
          "data": {
            "text/plain": [
              "Action Performed                0\n",
              "Connection Classification       0\n",
              "Priority                        0\n",
              "Date-Time                       0\n",
              "Source IP                       0\n",
              "Source Port                     0\n",
              "Destination IP                  0\n",
              "Destination Port                0\n",
              "Protocol                        0\n",
              "TimeToLive                      0\n",
              "TypeOfService                   0\n",
              "ID                              0\n",
              "IP Length                       0\n",
              "DataGram Length                 0\n",
              "All Flags                    2449\n",
              "Seq                          2449\n",
              " Ack                         2449\n",
              " Win                         2449\n",
              " TCP length                  2449\n",
              " TCP Options                 7762\n",
              " NOP NOP TS                  7762\n",
              " MSS                         7762\n",
              " NOP WS                      7762\n",
              " SackOK TS                   7762\n",
              "dtype: int64"
            ]
          },
          "metadata": {
            "tags": []
          },
          "execution_count": 15
        }
      ]
    },
    {
      "cell_type": "code",
      "metadata": {
        "id": "ihT78qd5BYsQ"
      },
      "source": [
        "df = df[df['All Flags'].notna()]#only taking those rows where value of df['All Flags']is not null"
      ],
      "execution_count": 16,
      "outputs": []
    },
    {
      "cell_type": "code",
      "metadata": {
        "colab": {
          "base_uri": "https://localhost:8080/"
        },
        "id": "SSvxKrXlDbtB",
        "outputId": "c529118d-bc4b-487b-de04-d8669bd4fa7a"
      },
      "source": [
        "df.columns"
      ],
      "execution_count": 17,
      "outputs": [
        {
          "output_type": "execute_result",
          "data": {
            "text/plain": [
              "Index(['Action Performed', 'Connection Classification', 'Priority',\n",
              "       'Date-Time', 'Source IP', 'Source Port', 'Destination IP',\n",
              "       'Destination Port', 'Protocol', 'TimeToLive', 'TypeOfService', 'ID',\n",
              "       'IP Length', 'DataGram Length', 'All Flags', 'Seq', ' Ack', ' Win',\n",
              "       ' TCP length', ' TCP Options', ' NOP NOP TS', ' MSS', ' NOP WS',\n",
              "       ' SackOK TS'],\n",
              "      dtype='object')"
            ]
          },
          "metadata": {
            "tags": []
          },
          "execution_count": 17
        }
      ]
    },
    {
      "cell_type": "code",
      "metadata": {
        "colab": {
          "base_uri": "https://localhost:8080/"
        },
        "id": "_oHkXA3iCKjf",
        "outputId": "847fd830-d3c3-4e10-95c5-582b00c474e0"
      },
      "source": [
        "df.isnull().sum()"
      ],
      "execution_count": 18,
      "outputs": [
        {
          "output_type": "execute_result",
          "data": {
            "text/plain": [
              "Action Performed                0\n",
              "Connection Classification       0\n",
              "Priority                        0\n",
              "Date-Time                       0\n",
              "Source IP                       0\n",
              "Source Port                     0\n",
              "Destination IP                  0\n",
              "Destination Port                0\n",
              "Protocol                        0\n",
              "TimeToLive                      0\n",
              "TypeOfService                   0\n",
              "ID                              0\n",
              "IP Length                       0\n",
              "DataGram Length                 0\n",
              "All Flags                       0\n",
              "Seq                             0\n",
              " Ack                            0\n",
              " Win                            0\n",
              " TCP length                     0\n",
              " TCP Options                 5313\n",
              " NOP NOP TS                  5313\n",
              " MSS                         5313\n",
              " NOP WS                      5313\n",
              " SackOK TS                   5313\n",
              "dtype: int64"
            ]
          },
          "metadata": {
            "tags": []
          },
          "execution_count": 18
        }
      ]
    },
    {
      "cell_type": "code",
      "metadata": {
        "id": "tXDUtG5iCZLr"
      },
      "source": [
        "df[' NOP NOP TS'].fillna(value=0, inplace=True)#Be carefull of ' ' in front of the column name"
      ],
      "execution_count": 19,
      "outputs": []
    },
    {
      "cell_type": "code",
      "metadata": {
        "id": "ktcfYypCEPX2"
      },
      "source": [
        "df[' TCP Options'].fillna(value=0, inplace=True)#Be carefull of ' ' in front of the column name"
      ],
      "execution_count": 20,
      "outputs": []
    },
    {
      "cell_type": "code",
      "metadata": {
        "id": "p0JREnVFEUPV"
      },
      "source": [
        "df[' MSS'].fillna(value=0, inplace=True)#Be carefull of ' ' in front of the column name"
      ],
      "execution_count": 21,
      "outputs": []
    },
    {
      "cell_type": "code",
      "metadata": {
        "id": "u7hQLlpIEYsi"
      },
      "source": [
        "df[' NOP WS'].fillna(value=0, inplace=True)#Be carefull of ' ' in front of the column name"
      ],
      "execution_count": 22,
      "outputs": []
    },
    {
      "cell_type": "code",
      "metadata": {
        "id": "w6ZVLfNnEZ7o"
      },
      "source": [
        "df[' SackOK TS'].fillna(value=0, inplace=True)#Be carefull of ' ' in front of the column name"
      ],
      "execution_count": 23,
      "outputs": []
    },
    {
      "cell_type": "code",
      "metadata": {
        "colab": {
          "base_uri": "https://localhost:8080/"
        },
        "id": "tQ4sxU9xEhg1",
        "outputId": "bb25ee22-a366-4f76-ed03-2678b15f101a"
      },
      "source": [
        "df.info()"
      ],
      "execution_count": 24,
      "outputs": [
        {
          "output_type": "stream",
          "text": [
            "<class 'pandas.core.frame.DataFrame'>\n",
            "Int64Index: 23292 entries, 0 to 25738\n",
            "Data columns (total 24 columns):\n",
            " #   Column                     Non-Null Count  Dtype  \n",
            "---  ------                     --------------  -----  \n",
            " 0   Action Performed           23292 non-null  object \n",
            " 1   Connection Classification  23292 non-null  object \n",
            " 2   Priority                   23292 non-null  int64  \n",
            " 3   Date-Time                  23292 non-null  int64  \n",
            " 4   Source IP                  23292 non-null  object \n",
            " 5   Source Port                23292 non-null  object \n",
            " 6   Destination IP             23292 non-null  object \n",
            " 7   Destination Port           23292 non-null  object \n",
            " 8   Protocol                   23292 non-null  object \n",
            " 9   TimeToLive                 23292 non-null  int64  \n",
            " 10  TypeOfService              23292 non-null  object \n",
            " 11  ID                         23292 non-null  int64  \n",
            " 12  IP Length                  23292 non-null  int64  \n",
            " 13  DataGram Length            23292 non-null  int64  \n",
            " 14  All Flags                  23292 non-null  object \n",
            " 15  Seq                        23292 non-null  object \n",
            " 16   Ack                       23292 non-null  object \n",
            " 17   Win                       23292 non-null  object \n",
            " 18   TCP length                23292 non-null  float64\n",
            " 19   TCP Options               23292 non-null  float64\n",
            " 20   NOP NOP TS                23292 non-null  object \n",
            " 21   MSS                       23292 non-null  object \n",
            " 22   NOP WS                    23292 non-null  object \n",
            " 23   SackOK TS                 23292 non-null  object \n",
            "dtypes: float64(2), int64(6), object(16)\n",
            "memory usage: 4.4+ MB\n"
          ],
          "name": "stdout"
        }
      ]
    },
    {
      "cell_type": "code",
      "metadata": {
        "colab": {
          "base_uri": "https://localhost:8080/",
          "height": 576
        },
        "id": "74oZBFIREi4x",
        "outputId": "47ad89db-e36c-47dc-b535-937476fb7aeb"
      },
      "source": [
        "df.head()"
      ],
      "execution_count": 25,
      "outputs": [
        {
          "output_type": "execute_result",
          "data": {
            "text/html": [
              "<div>\n",
              "<style scoped>\n",
              "    .dataframe tbody tr th:only-of-type {\n",
              "        vertical-align: middle;\n",
              "    }\n",
              "\n",
              "    .dataframe tbody tr th {\n",
              "        vertical-align: top;\n",
              "    }\n",
              "\n",
              "    .dataframe thead th {\n",
              "        text-align: right;\n",
              "    }\n",
              "</style>\n",
              "<table border=\"1\" class=\"dataframe\">\n",
              "  <thead>\n",
              "    <tr style=\"text-align: right;\">\n",
              "      <th></th>\n",
              "      <th>Action Performed</th>\n",
              "      <th>Connection Classification</th>\n",
              "      <th>Priority</th>\n",
              "      <th>Date-Time</th>\n",
              "      <th>Source IP</th>\n",
              "      <th>Source Port</th>\n",
              "      <th>Destination IP</th>\n",
              "      <th>Destination Port</th>\n",
              "      <th>Protocol</th>\n",
              "      <th>TimeToLive</th>\n",
              "      <th>TypeOfService</th>\n",
              "      <th>ID</th>\n",
              "      <th>IP Length</th>\n",
              "      <th>DataGram Length</th>\n",
              "      <th>All Flags</th>\n",
              "      <th>Seq</th>\n",
              "      <th>Ack</th>\n",
              "      <th>Win</th>\n",
              "      <th>TCP length</th>\n",
              "      <th>TCP Options</th>\n",
              "      <th>NOP NOP TS</th>\n",
              "      <th>MSS</th>\n",
              "      <th>NOP WS</th>\n",
              "      <th>SackOK TS</th>\n",
              "    </tr>\n",
              "  </thead>\n",
              "  <tbody>\n",
              "    <tr>\n",
              "      <th>0</th>\n",
              "      <td>TCP Timestamp is outside of PAWS window</td>\n",
              "      <td></td>\n",
              "      <td>3</td>\n",
              "      <td>1573234989</td>\n",
              "      <td>10.1.60.203</td>\n",
              "      <td>57764</td>\n",
              "      <td>7.204.241.161</td>\n",
              "      <td>25</td>\n",
              "      <td>TCP</td>\n",
              "      <td>63</td>\n",
              "      <td>0x0</td>\n",
              "      <td>51372</td>\n",
              "      <td>20</td>\n",
              "      <td>40</td>\n",
              "      <td>*****R**</td>\n",
              "      <td>0x787AFC70</td>\n",
              "      <td>0x0</td>\n",
              "      <td>0x0</td>\n",
              "      <td>20.0</td>\n",
              "      <td>0.0</td>\n",
              "      <td>0</td>\n",
              "      <td>0</td>\n",
              "      <td>0</td>\n",
              "      <td>0</td>\n",
              "    </tr>\n",
              "    <tr>\n",
              "      <th>1</th>\n",
              "      <td>TCP Timestamp is outside of PAWS window</td>\n",
              "      <td></td>\n",
              "      <td>3</td>\n",
              "      <td>1573235154</td>\n",
              "      <td>7.204.241.161</td>\n",
              "      <td>25</td>\n",
              "      <td>10.1.60.203</td>\n",
              "      <td>50176</td>\n",
              "      <td>TCP</td>\n",
              "      <td>64</td>\n",
              "      <td>0x0</td>\n",
              "      <td>1283</td>\n",
              "      <td>20</td>\n",
              "      <td>40</td>\n",
              "      <td>*****R**</td>\n",
              "      <td>0xE06DEE6F</td>\n",
              "      <td>0x0</td>\n",
              "      <td>0x0</td>\n",
              "      <td>20.0</td>\n",
              "      <td>0.0</td>\n",
              "      <td>0</td>\n",
              "      <td>0</td>\n",
              "      <td>0</td>\n",
              "      <td>0</td>\n",
              "    </tr>\n",
              "    <tr>\n",
              "      <th>2</th>\n",
              "      <td>TCP Timestamp is outside of PAWS window</td>\n",
              "      <td></td>\n",
              "      <td>3</td>\n",
              "      <td>1573235154</td>\n",
              "      <td>7.204.241.161</td>\n",
              "      <td>25</td>\n",
              "      <td>10.1.60.203</td>\n",
              "      <td>50176</td>\n",
              "      <td>TCP</td>\n",
              "      <td>64</td>\n",
              "      <td>0x0</td>\n",
              "      <td>1284</td>\n",
              "      <td>20</td>\n",
              "      <td>40</td>\n",
              "      <td>*****R**</td>\n",
              "      <td>0xE06DEE6F</td>\n",
              "      <td>0x0</td>\n",
              "      <td>0x0</td>\n",
              "      <td>20.0</td>\n",
              "      <td>0.0</td>\n",
              "      <td>0</td>\n",
              "      <td>0</td>\n",
              "      <td>0</td>\n",
              "      <td>0</td>\n",
              "    </tr>\n",
              "    <tr>\n",
              "      <th>3</th>\n",
              "      <td>TCP Timestamp is outside of PAWS window</td>\n",
              "      <td></td>\n",
              "      <td>3</td>\n",
              "      <td>1573235222</td>\n",
              "      <td>154.241.88.201</td>\n",
              "      <td>80</td>\n",
              "      <td>3.75.190.181</td>\n",
              "      <td>60708</td>\n",
              "      <td>TCP</td>\n",
              "      <td>63</td>\n",
              "      <td>0x0</td>\n",
              "      <td>21269</td>\n",
              "      <td>20</td>\n",
              "      <td>52</td>\n",
              "      <td>***A****</td>\n",
              "      <td>0xE20FC272</td>\n",
              "      <td>0x567079D3</td>\n",
              "      <td>0x5B</td>\n",
              "      <td>32.0</td>\n",
              "      <td>3.0</td>\n",
              "      <td>66621799 74830877</td>\n",
              "      <td></td>\n",
              "      <td></td>\n",
              "      <td></td>\n",
              "    </tr>\n",
              "    <tr>\n",
              "      <th>4</th>\n",
              "      <td>TCP Timestamp is outside of PAWS window</td>\n",
              "      <td></td>\n",
              "      <td>3</td>\n",
              "      <td>1573235222</td>\n",
              "      <td>154.241.88.201</td>\n",
              "      <td>80</td>\n",
              "      <td>3.75.190.181</td>\n",
              "      <td>60708</td>\n",
              "      <td>TCP</td>\n",
              "      <td>63</td>\n",
              "      <td>0x0</td>\n",
              "      <td>21270</td>\n",
              "      <td>20</td>\n",
              "      <td>455</td>\n",
              "      <td>***AP***</td>\n",
              "      <td>0xE20FC272</td>\n",
              "      <td>0x567079D3</td>\n",
              "      <td>0x5B</td>\n",
              "      <td>32.0</td>\n",
              "      <td>3.0</td>\n",
              "      <td>66621799 74830877</td>\n",
              "      <td></td>\n",
              "      <td></td>\n",
              "      <td></td>\n",
              "    </tr>\n",
              "  </tbody>\n",
              "</table>\n",
              "</div>"
            ],
            "text/plain": [
              "                             Action Performed  ...  SackOK TS\n",
              "0   TCP Timestamp is outside of PAWS window    ...          0\n",
              "1   TCP Timestamp is outside of PAWS window    ...          0\n",
              "2   TCP Timestamp is outside of PAWS window    ...          0\n",
              "3   TCP Timestamp is outside of PAWS window    ...           \n",
              "4   TCP Timestamp is outside of PAWS window    ...           \n",
              "\n",
              "[5 rows x 24 columns]"
            ]
          },
          "metadata": {
            "tags": []
          },
          "execution_count": 25
        }
      ]
    },
    {
      "cell_type": "code",
      "metadata": {
        "id": "R6RZZ_lTEtto"
      },
      "source": [
        "df.to_csv(\"semi_processed.csv\", index=False)"
      ],
      "execution_count": 26,
      "outputs": []
    },
    {
      "cell_type": "code",
      "metadata": {
        "id": "qlm6KWVuFrkP"
      },
      "source": [
        ""
      ],
      "execution_count": 26,
      "outputs": []
    },
    {
      "cell_type": "code",
      "metadata": {
        "id": "swyAW9FfFMA2"
      },
      "source": [
        "df2=pd.read_csv(\"semi_processed.csv\")"
      ],
      "execution_count": 27,
      "outputs": []
    },
    {
      "cell_type": "code",
      "metadata": {
        "colab": {
          "base_uri": "https://localhost:8080/"
        },
        "id": "wnh-pbayFq0r",
        "outputId": "b1b2272b-138b-439e-cd7b-12ed0fa68661"
      },
      "source": [
        "df2.columns"
      ],
      "execution_count": 28,
      "outputs": [
        {
          "output_type": "execute_result",
          "data": {
            "text/plain": [
              "Index(['Action Performed', 'Connection Classification', 'Priority',\n",
              "       'Date-Time', 'Source IP', 'Source Port', 'Destination IP',\n",
              "       'Destination Port', 'Protocol', 'TimeToLive', 'TypeOfService', 'ID',\n",
              "       'IP Length', 'DataGram Length', 'All Flags', 'Seq', ' Ack', ' Win',\n",
              "       ' TCP length', ' TCP Options', ' NOP NOP TS', ' MSS', ' NOP WS',\n",
              "       ' SackOK TS'],\n",
              "      dtype='object')"
            ]
          },
          "metadata": {
            "tags": []
          },
          "execution_count": 28
        }
      ]
    },
    {
      "cell_type": "code",
      "metadata": {
        "colab": {
          "base_uri": "https://localhost:8080/"
        },
        "id": "QfknUqiGFwOc",
        "outputId": "5c2f0cfc-a2cb-49a8-f76d-64af9e386b3f"
      },
      "source": [
        "df2['Connection Classification'].value_counts()"
      ],
      "execution_count": 29,
      "outputs": [
        {
          "output_type": "execute_result",
          "data": {
            "text/plain": [
              "Web Application Attack                                  8550\n",
              "                                                        6323\n",
              "access to a potentially vulnerable web application      3146\n",
              "Attempted Information Leak                              2582\n",
              "Executable code was detected                            1756\n",
              "Attempted Administrator Privilege Gain                   728\n",
              "Attempted Denial of Service                              148\n",
              "Attempted User Privilege Gain                             40\n",
              "Potentially Bad Traffic                                   10\n",
              "Misc Attack                                                6\n",
              "A Network Trojan was detected                              2\n",
              "Attempt to login by a default username and password        1\n",
              "Name: Connection Classification, dtype: int64"
            ]
          },
          "metadata": {
            "tags": []
          },
          "execution_count": 29
        }
      ]
    },
    {
      "cell_type": "code",
      "metadata": {
        "id": "d2ihaB79Gy5m"
      },
      "source": [
        "df2=df2.replace(r'^\\s*$', 0, regex=True) #Even after remmoving the Null values there were still  many empty values in the columns 'Connection Classification', ' TCP Options', ' NOP NOP TS', ' MSS', ' NOP WS', ' SackOK TS'"
      ],
      "execution_count": 30,
      "outputs": []
    },
    {
      "cell_type": "code",
      "metadata": {
        "colab": {
          "base_uri": "https://localhost:8080/"
        },
        "id": "x_NRELeQISXC",
        "outputId": "d8bac50c-be8d-44fa-b68f-e1be19057421"
      },
      "source": [
        "df2['Connection Classification'].value_counts()"
      ],
      "execution_count": 31,
      "outputs": [
        {
          "output_type": "execute_result",
          "data": {
            "text/plain": [
              "Web Application Attack                                  8550\n",
              "0                                                       6323\n",
              "access to a potentially vulnerable web application      3146\n",
              "Attempted Information Leak                              2582\n",
              "Executable code was detected                            1756\n",
              "Attempted Administrator Privilege Gain                   728\n",
              "Attempted Denial of Service                              148\n",
              "Attempted User Privilege Gain                             40\n",
              "Potentially Bad Traffic                                   10\n",
              "Misc Attack                                                6\n",
              "A Network Trojan was detected                              2\n",
              "Attempt to login by a default username and password        1\n",
              "Name: Connection Classification, dtype: int64"
            ]
          },
          "metadata": {
            "tags": []
          },
          "execution_count": 31
        }
      ]
    },
    {
      "cell_type": "code",
      "metadata": {
        "id": "xryti_lPIYgZ"
      },
      "source": [
        "df2['Connection Classification'].mask(df2['Connection Classification'] != 0, 1, inplace=True) #MAking the target variable binary"
      ],
      "execution_count": 32,
      "outputs": []
    },
    {
      "cell_type": "code",
      "metadata": {
        "colab": {
          "base_uri": "https://localhost:8080/"
        },
        "id": "0u7OZwQsJ8h_",
        "outputId": "3e15d52d-88a8-4953-d730-4fa256fdb736"
      },
      "source": [
        "df2['Connection Classification'].value_counts()"
      ],
      "execution_count": 33,
      "outputs": [
        {
          "output_type": "execute_result",
          "data": {
            "text/plain": [
              "1    16969\n",
              "0     6323\n",
              "Name: Connection Classification, dtype: int64"
            ]
          },
          "metadata": {
            "tags": []
          },
          "execution_count": 33
        }
      ]
    },
    {
      "cell_type": "code",
      "metadata": {
        "colab": {
          "base_uri": "https://localhost:8080/"
        },
        "id": "xWXTRRbzMKhD",
        "outputId": "0ed474fc-dd31-44e9-c4f3-7cc95164e077"
      },
      "source": [
        "df2.columns"
      ],
      "execution_count": 34,
      "outputs": [
        {
          "output_type": "execute_result",
          "data": {
            "text/plain": [
              "Index(['Action Performed', 'Connection Classification', 'Priority',\n",
              "       'Date-Time', 'Source IP', 'Source Port', 'Destination IP',\n",
              "       'Destination Port', 'Protocol', 'TimeToLive', 'TypeOfService', 'ID',\n",
              "       'IP Length', 'DataGram Length', 'All Flags', 'Seq', ' Ack', ' Win',\n",
              "       ' TCP length', ' TCP Options', ' NOP NOP TS', ' MSS', ' NOP WS',\n",
              "       ' SackOK TS'],\n",
              "      dtype='object')"
            ]
          },
          "metadata": {
            "tags": []
          },
          "execution_count": 34
        }
      ]
    },
    {
      "cell_type": "code",
      "metadata": {
        "id": "BJ4upc_2MQUJ"
      },
      "source": [
        "df2.drop(['ID', 'IP Length'], axis = 1, inplace=True)"
      ],
      "execution_count": 35,
      "outputs": []
    },
    {
      "cell_type": "code",
      "metadata": {
        "colab": {
          "base_uri": "https://localhost:8080/"
        },
        "id": "6H0gXw9gMbm5",
        "outputId": "cb04006e-8222-4cf2-8519-f6ec5650fea1"
      },
      "source": [
        "df2.info()"
      ],
      "execution_count": 36,
      "outputs": [
        {
          "output_type": "stream",
          "text": [
            "<class 'pandas.core.frame.DataFrame'>\n",
            "RangeIndex: 23292 entries, 0 to 23291\n",
            "Data columns (total 22 columns):\n",
            " #   Column                     Non-Null Count  Dtype  \n",
            "---  ------                     --------------  -----  \n",
            " 0   Action Performed           23292 non-null  object \n",
            " 1   Connection Classification  23292 non-null  object \n",
            " 2   Priority                   23292 non-null  int64  \n",
            " 3   Date-Time                  23292 non-null  int64  \n",
            " 4   Source IP                  23292 non-null  object \n",
            " 5   Source Port                23292 non-null  int64  \n",
            " 6   Destination IP             23292 non-null  object \n",
            " 7   Destination Port           23292 non-null  int64  \n",
            " 8   Protocol                   23292 non-null  object \n",
            " 9   TimeToLive                 23292 non-null  int64  \n",
            " 10  TypeOfService              23292 non-null  object \n",
            " 11  DataGram Length            23292 non-null  int64  \n",
            " 12  All Flags                  23292 non-null  object \n",
            " 13  Seq                        23292 non-null  object \n",
            " 14   Ack                       23292 non-null  object \n",
            " 15   Win                       23292 non-null  object \n",
            " 16   TCP length                23292 non-null  float64\n",
            " 17   TCP Options               23292 non-null  float64\n",
            " 18   NOP NOP TS                23292 non-null  object \n",
            " 19   MSS                       23292 non-null  object \n",
            " 20   NOP WS                    23292 non-null  object \n",
            " 21   SackOK TS                 23292 non-null  object \n",
            "dtypes: float64(2), int64(6), object(14)\n",
            "memory usage: 3.9+ MB\n"
          ],
          "name": "stdout"
        }
      ]
    },
    {
      "cell_type": "code",
      "metadata": {
        "id": "7yIF0Jh-Mddk"
      },
      "source": [
        "df2.to_csv(\"semi_processed_2.csv\", index=False)"
      ],
      "execution_count": 37,
      "outputs": []
    },
    {
      "cell_type": "code",
      "metadata": {
        "id": "mVqRiYREMkZC"
      },
      "source": [
        "df3=pd.read_csv(\"semi_processed_2.csv\")"
      ],
      "execution_count": 38,
      "outputs": []
    },
    {
      "cell_type": "code",
      "metadata": {
        "colab": {
          "base_uri": "https://localhost:8080/"
        },
        "id": "n-0nYYIGMxd3",
        "outputId": "46b6cbe8-8057-4d20-db32-222827faae09"
      },
      "source": [
        "df3.info()"
      ],
      "execution_count": 39,
      "outputs": [
        {
          "output_type": "stream",
          "text": [
            "<class 'pandas.core.frame.DataFrame'>\n",
            "RangeIndex: 23292 entries, 0 to 23291\n",
            "Data columns (total 22 columns):\n",
            " #   Column                     Non-Null Count  Dtype  \n",
            "---  ------                     --------------  -----  \n",
            " 0   Action Performed           23292 non-null  object \n",
            " 1   Connection Classification  23292 non-null  int64  \n",
            " 2   Priority                   23292 non-null  int64  \n",
            " 3   Date-Time                  23292 non-null  int64  \n",
            " 4   Source IP                  23292 non-null  object \n",
            " 5   Source Port                23292 non-null  int64  \n",
            " 6   Destination IP             23292 non-null  object \n",
            " 7   Destination Port           23292 non-null  int64  \n",
            " 8   Protocol                   23292 non-null  object \n",
            " 9   TimeToLive                 23292 non-null  int64  \n",
            " 10  TypeOfService              23292 non-null  object \n",
            " 11  DataGram Length            23292 non-null  int64  \n",
            " 12  All Flags                  23292 non-null  object \n",
            " 13  Seq                        23292 non-null  object \n",
            " 14   Ack                       23292 non-null  object \n",
            " 15   Win                       23292 non-null  object \n",
            " 16   TCP length                23292 non-null  float64\n",
            " 17   TCP Options               23292 non-null  float64\n",
            " 18   NOP NOP TS                23292 non-null  object \n",
            " 19   MSS                       23292 non-null  int64  \n",
            " 20   NOP WS                    23292 non-null  int64  \n",
            " 21   SackOK TS                 23292 non-null  object \n",
            "dtypes: float64(2), int64(9), object(11)\n",
            "memory usage: 3.9+ MB\n"
          ],
          "name": "stdout"
        }
      ]
    },
    {
      "cell_type": "code",
      "metadata": {
        "id": "1VzZkpMgM0Kn"
      },
      "source": [
        "df3.drop(['Protocol'], axis = 1, inplace=True)"
      ],
      "execution_count": 40,
      "outputs": []
    },
    {
      "cell_type": "code",
      "metadata": {
        "colab": {
          "base_uri": "https://localhost:8080/"
        },
        "id": "r4qSn0YcNpeO",
        "outputId": "5d414588-49be-4aef-eec4-24e1ca79bc81"
      },
      "source": [
        "df3.info()"
      ],
      "execution_count": 41,
      "outputs": [
        {
          "output_type": "stream",
          "text": [
            "<class 'pandas.core.frame.DataFrame'>\n",
            "RangeIndex: 23292 entries, 0 to 23291\n",
            "Data columns (total 21 columns):\n",
            " #   Column                     Non-Null Count  Dtype  \n",
            "---  ------                     --------------  -----  \n",
            " 0   Action Performed           23292 non-null  object \n",
            " 1   Connection Classification  23292 non-null  int64  \n",
            " 2   Priority                   23292 non-null  int64  \n",
            " 3   Date-Time                  23292 non-null  int64  \n",
            " 4   Source IP                  23292 non-null  object \n",
            " 5   Source Port                23292 non-null  int64  \n",
            " 6   Destination IP             23292 non-null  object \n",
            " 7   Destination Port           23292 non-null  int64  \n",
            " 8   TimeToLive                 23292 non-null  int64  \n",
            " 9   TypeOfService              23292 non-null  object \n",
            " 10  DataGram Length            23292 non-null  int64  \n",
            " 11  All Flags                  23292 non-null  object \n",
            " 12  Seq                        23292 non-null  object \n",
            " 13   Ack                       23292 non-null  object \n",
            " 14   Win                       23292 non-null  object \n",
            " 15   TCP length                23292 non-null  float64\n",
            " 16   TCP Options               23292 non-null  float64\n",
            " 17   NOP NOP TS                23292 non-null  object \n",
            " 18   MSS                       23292 non-null  int64  \n",
            " 19   NOP WS                    23292 non-null  int64  \n",
            " 20   SackOK TS                 23292 non-null  object \n",
            "dtypes: float64(2), int64(9), object(10)\n",
            "memory usage: 3.7+ MB\n"
          ],
          "name": "stdout"
        }
      ]
    },
    {
      "cell_type": "code",
      "metadata": {
        "colab": {
          "base_uri": "https://localhost:8080/"
        },
        "id": "lGtLplkSPT2-",
        "outputId": "d42ee7de-bf49-47a8-dd05-7b53b409f971"
      },
      "source": [
        "df3.columns"
      ],
      "execution_count": 42,
      "outputs": [
        {
          "output_type": "execute_result",
          "data": {
            "text/plain": [
              "Index(['Action Performed', 'Connection Classification', 'Priority',\n",
              "       'Date-Time', 'Source IP', 'Source Port', 'Destination IP',\n",
              "       'Destination Port', 'TimeToLive', 'TypeOfService', 'DataGram Length',\n",
              "       'All Flags', 'Seq', ' Ack', ' Win', ' TCP length', ' TCP Options',\n",
              "       ' NOP NOP TS', ' MSS', ' NOP WS', ' SackOK TS'],\n",
              "      dtype='object')"
            ]
          },
          "metadata": {
            "tags": []
          },
          "execution_count": 42
        }
      ]
    },
    {
      "cell_type": "code",
      "metadata": {
        "id": "Nxr-pxMtPYKa"
      },
      "source": [
        "df3.rename(columns={' Ack':'Ack', ' Win':'Win', ' TCP length':'TCP_length', ' TCP Options':'TCP_Options',\n",
        "       ' NOP NOP TS':'NOP_NOP_TS', ' MSS':'MSS', ' NOP WS':'NOP_WS', ' SackOK TS':'SackOK_TS'}, inplace = True)"
      ],
      "execution_count": 43,
      "outputs": []
    },
    {
      "cell_type": "code",
      "metadata": {
        "colab": {
          "base_uri": "https://localhost:8080/"
        },
        "id": "w2cF-MP1QYE1",
        "outputId": "cfd4a2f6-5386-4373-a8c2-a973b0716b7e"
      },
      "source": [
        "df3.columns"
      ],
      "execution_count": 44,
      "outputs": [
        {
          "output_type": "execute_result",
          "data": {
            "text/plain": [
              "Index(['Action Performed', 'Connection Classification', 'Priority',\n",
              "       'Date-Time', 'Source IP', 'Source Port', 'Destination IP',\n",
              "       'Destination Port', 'TimeToLive', 'TypeOfService', 'DataGram Length',\n",
              "       'All Flags', 'Seq', 'Ack', 'Win', 'TCP_length', 'TCP_Options',\n",
              "       'NOP_NOP_TS', 'MSS', 'NOP_WS', 'SackOK_TS'],\n",
              "      dtype='object')"
            ]
          },
          "metadata": {
            "tags": []
          },
          "execution_count": 44
        }
      ]
    },
    {
      "cell_type": "code",
      "metadata": {
        "colab": {
          "base_uri": "https://localhost:8080/"
        },
        "id": "crzLuSesQbqw",
        "outputId": "b19363a8-5ab5-4e2c-bc78-f998c24fca83"
      },
      "source": [
        "df3.info()"
      ],
      "execution_count": 45,
      "outputs": [
        {
          "output_type": "stream",
          "text": [
            "<class 'pandas.core.frame.DataFrame'>\n",
            "RangeIndex: 23292 entries, 0 to 23291\n",
            "Data columns (total 21 columns):\n",
            " #   Column                     Non-Null Count  Dtype  \n",
            "---  ------                     --------------  -----  \n",
            " 0   Action Performed           23292 non-null  object \n",
            " 1   Connection Classification  23292 non-null  int64  \n",
            " 2   Priority                   23292 non-null  int64  \n",
            " 3   Date-Time                  23292 non-null  int64  \n",
            " 4   Source IP                  23292 non-null  object \n",
            " 5   Source Port                23292 non-null  int64  \n",
            " 6   Destination IP             23292 non-null  object \n",
            " 7   Destination Port           23292 non-null  int64  \n",
            " 8   TimeToLive                 23292 non-null  int64  \n",
            " 9   TypeOfService              23292 non-null  object \n",
            " 10  DataGram Length            23292 non-null  int64  \n",
            " 11  All Flags                  23292 non-null  object \n",
            " 12  Seq                        23292 non-null  object \n",
            " 13  Ack                        23292 non-null  object \n",
            " 14  Win                        23292 non-null  object \n",
            " 15  TCP_length                 23292 non-null  float64\n",
            " 16  TCP_Options                23292 non-null  float64\n",
            " 17  NOP_NOP_TS                 23292 non-null  object \n",
            " 18  MSS                        23292 non-null  int64  \n",
            " 19  NOP_WS                     23292 non-null  int64  \n",
            " 20  SackOK_TS                  23292 non-null  object \n",
            "dtypes: float64(2), int64(9), object(10)\n",
            "memory usage: 3.7+ MB\n"
          ],
          "name": "stdout"
        }
      ]
    },
    {
      "cell_type": "code",
      "metadata": {
        "id": "ronZTfmAQrsF"
      },
      "source": [
        "df3.columns = df3.columns.str.replace(' ', '') #Removing spaces"
      ],
      "execution_count": 46,
      "outputs": []
    },
    {
      "cell_type": "code",
      "metadata": {
        "colab": {
          "base_uri": "https://localhost:8080/"
        },
        "id": "a8ta1mg0Q-bP",
        "outputId": "621e053a-1570-4f63-b969-b63121c6c345"
      },
      "source": [
        "df3.info()"
      ],
      "execution_count": 47,
      "outputs": [
        {
          "output_type": "stream",
          "text": [
            "<class 'pandas.core.frame.DataFrame'>\n",
            "RangeIndex: 23292 entries, 0 to 23291\n",
            "Data columns (total 21 columns):\n",
            " #   Column                    Non-Null Count  Dtype  \n",
            "---  ------                    --------------  -----  \n",
            " 0   ActionPerformed           23292 non-null  object \n",
            " 1   ConnectionClassification  23292 non-null  int64  \n",
            " 2   Priority                  23292 non-null  int64  \n",
            " 3   Date-Time                 23292 non-null  int64  \n",
            " 4   SourceIP                  23292 non-null  object \n",
            " 5   SourcePort                23292 non-null  int64  \n",
            " 6   DestinationIP             23292 non-null  object \n",
            " 7   DestinationPort           23292 non-null  int64  \n",
            " 8   TimeToLive                23292 non-null  int64  \n",
            " 9   TypeOfService             23292 non-null  object \n",
            " 10  DataGramLength            23292 non-null  int64  \n",
            " 11  AllFlags                  23292 non-null  object \n",
            " 12  Seq                       23292 non-null  object \n",
            " 13  Ack                       23292 non-null  object \n",
            " 14  Win                       23292 non-null  object \n",
            " 15  TCP_length                23292 non-null  float64\n",
            " 16  TCP_Options               23292 non-null  float64\n",
            " 17  NOP_NOP_TS                23292 non-null  object \n",
            " 18  MSS                       23292 non-null  int64  \n",
            " 19  NOP_WS                    23292 non-null  int64  \n",
            " 20  SackOK_TS                 23292 non-null  object \n",
            "dtypes: float64(2), int64(9), object(10)\n",
            "memory usage: 3.7+ MB\n"
          ],
          "name": "stdout"
        }
      ]
    },
    {
      "cell_type": "code",
      "metadata": {
        "id": "w6X_1FFRRA6u"
      },
      "source": [
        "df3.to_csv(\"semi_processed_3.csv\", index=False)"
      ],
      "execution_count": 48,
      "outputs": []
    },
    {
      "cell_type": "code",
      "metadata": {
        "id": "EKXzbpTCRzCy"
      },
      "source": [
        "df4=pd.read_csv(\"semi_processed_3.csv\")"
      ],
      "execution_count": 49,
      "outputs": []
    },
    {
      "cell_type": "code",
      "metadata": {
        "colab": {
          "base_uri": "https://localhost:8080/"
        },
        "id": "oos2JO8fSE8N",
        "outputId": "02846a22-3a9f-40f3-b760-30c29b52520d"
      },
      "source": [
        "df4.info()"
      ],
      "execution_count": 50,
      "outputs": [
        {
          "output_type": "stream",
          "text": [
            "<class 'pandas.core.frame.DataFrame'>\n",
            "RangeIndex: 23292 entries, 0 to 23291\n",
            "Data columns (total 21 columns):\n",
            " #   Column                    Non-Null Count  Dtype  \n",
            "---  ------                    --------------  -----  \n",
            " 0   ActionPerformed           23292 non-null  object \n",
            " 1   ConnectionClassification  23292 non-null  int64  \n",
            " 2   Priority                  23292 non-null  int64  \n",
            " 3   Date-Time                 23292 non-null  int64  \n",
            " 4   SourceIP                  23292 non-null  object \n",
            " 5   SourcePort                23292 non-null  int64  \n",
            " 6   DestinationIP             23292 non-null  object \n",
            " 7   DestinationPort           23292 non-null  int64  \n",
            " 8   TimeToLive                23292 non-null  int64  \n",
            " 9   TypeOfService             23292 non-null  object \n",
            " 10  DataGramLength            23292 non-null  int64  \n",
            " 11  AllFlags                  23292 non-null  object \n",
            " 12  Seq                       23292 non-null  object \n",
            " 13  Ack                       23292 non-null  object \n",
            " 14  Win                       23292 non-null  object \n",
            " 15  TCP_length                23292 non-null  float64\n",
            " 16  TCP_Options               23292 non-null  float64\n",
            " 17  NOP_NOP_TS                23292 non-null  object \n",
            " 18  MSS                       23292 non-null  int64  \n",
            " 19  NOP_WS                    23292 non-null  int64  \n",
            " 20  SackOK_TS                 23292 non-null  object \n",
            "dtypes: float64(2), int64(9), object(10)\n",
            "memory usage: 3.7+ MB\n"
          ],
          "name": "stdout"
        }
      ]
    },
    {
      "cell_type": "code",
      "metadata": {
        "colab": {
          "base_uri": "https://localhost:8080/"
        },
        "id": "0CyN_GdJSGe2",
        "outputId": "e998f5be-8a7a-4c9a-e1c9-d8bc76c9ab70"
      },
      "source": [
        "df4['SackOK_TS'].value_counts()"
      ],
      "execution_count": 51,
      "outputs": [
        {
          "output_type": "execute_result",
          "data": {
            "text/plain": [
              "0                      23257\n",
              "48661984 0                 1\n",
              "100579123 0                1\n",
              "72152302 53393445          1\n",
              "82292136 63514839          1\n",
              "74021134 100579123         1\n",
              "48664984 0                 1\n",
              "101032051 0                1\n",
              "86809314 101857746         1\n",
              "57585693 0                 1\n",
              "78551107 101032051         1\n",
              "48668184 0                 1\n",
              "59083043 0                 1\n",
              "101857746 0                1\n",
              "52674722 0                 1\n",
              "72032210 53273572          1\n",
              "77552132 58783455          1\n",
              "63514839 0                 1\n",
              "48302515 0                 1\n",
              "66809048 0                 1\n",
              "53393445 0                 1\n",
              "77852266 59083043          1\n",
              "68852062 50099209          1\n",
              "50099209 0                 1\n",
              "76352188 57585693          1\n",
              "71432268 52674722          1\n",
              "67642371 48302515          1\n",
              "85592350 66809048          1\n",
              "53273572 0                 1\n",
              "67952272 49201055          1\n",
              "80132265 61358895          1\n",
              "47703591 0                 1\n",
              "61358895 0                 1\n",
              "67042354 47703591          1\n",
              "49201055 0                 1\n",
              "58783455 0                 1\n",
              "Name: SackOK_TS, dtype: int64"
            ]
          },
          "metadata": {
            "tags": []
          },
          "execution_count": 51
        }
      ]
    },
    {
      "cell_type": "code",
      "metadata": {
        "id": "qgQ1KaFOSr6Z"
      },
      "source": [
        "df4.drop(['SackOK_TS'], axis = 1, inplace=True)"
      ],
      "execution_count": 52,
      "outputs": []
    },
    {
      "cell_type": "code",
      "metadata": {
        "colab": {
          "base_uri": "https://localhost:8080/"
        },
        "id": "3Mq1CNvfSPtp",
        "outputId": "4365ad43-8246-429b-84e4-c8ba7d0774b2"
      },
      "source": [
        "df4['NOP_NOP_TS'].value_counts()"
      ],
      "execution_count": 53,
      "outputs": [
        {
          "output_type": "execute_result",
          "data": {
            "text/plain": [
              "0                       5375\n",
              "959034 77997480           10\n",
              "1317324 79430147           9\n",
              "1005735 148965311          6\n",
              "958988 77997297            6\n",
              "                        ... \n",
              "21954796 141880500         1\n",
              "21942377 141830815         1\n",
              "11197952 1261899           1\n",
              "3645141815 22393309        1\n",
              "5975934 78749419           1\n",
              "Name: NOP_NOP_TS, Length: 12567, dtype: int64"
            ]
          },
          "metadata": {
            "tags": []
          },
          "execution_count": 53
        }
      ]
    },
    {
      "cell_type": "code",
      "metadata": {
        "id": "BJJMAfYiSgM7"
      },
      "source": [
        "df4['NOP_NOP_TS'] = df4['NOP_NOP_TS'].str.replace(' ', '') #Removing spaces"
      ],
      "execution_count": 54,
      "outputs": []
    },
    {
      "cell_type": "code",
      "metadata": {
        "colab": {
          "base_uri": "https://localhost:8080/"
        },
        "id": "lUR8nip2S-MW",
        "outputId": "a2d808ca-c0d4-4176-f6ef-1abfaca6a948"
      },
      "source": [
        "df4.info()"
      ],
      "execution_count": 55,
      "outputs": [
        {
          "output_type": "stream",
          "text": [
            "<class 'pandas.core.frame.DataFrame'>\n",
            "RangeIndex: 23292 entries, 0 to 23291\n",
            "Data columns (total 20 columns):\n",
            " #   Column                    Non-Null Count  Dtype  \n",
            "---  ------                    --------------  -----  \n",
            " 0   ActionPerformed           23292 non-null  object \n",
            " 1   ConnectionClassification  23292 non-null  int64  \n",
            " 2   Priority                  23292 non-null  int64  \n",
            " 3   Date-Time                 23292 non-null  int64  \n",
            " 4   SourceIP                  23292 non-null  object \n",
            " 5   SourcePort                23292 non-null  int64  \n",
            " 6   DestinationIP             23292 non-null  object \n",
            " 7   DestinationPort           23292 non-null  int64  \n",
            " 8   TimeToLive                23292 non-null  int64  \n",
            " 9   TypeOfService             23292 non-null  object \n",
            " 10  DataGramLength            23292 non-null  int64  \n",
            " 11  AllFlags                  23292 non-null  object \n",
            " 12  Seq                       23292 non-null  object \n",
            " 13  Ack                       23292 non-null  object \n",
            " 14  Win                       23292 non-null  object \n",
            " 15  TCP_length                23292 non-null  float64\n",
            " 16  TCP_Options               23292 non-null  float64\n",
            " 17  NOP_NOP_TS                23292 non-null  object \n",
            " 18  MSS                       23292 non-null  int64  \n",
            " 19  NOP_WS                    23292 non-null  int64  \n",
            "dtypes: float64(2), int64(9), object(9)\n",
            "memory usage: 3.6+ MB\n"
          ],
          "name": "stdout"
        }
      ]
    },
    {
      "cell_type": "code",
      "metadata": {
        "id": "9sZIKrYWUkhE"
      },
      "source": [
        "df4.to_csv(\"semi_processed_4.csv\", index=False)"
      ],
      "execution_count": 56,
      "outputs": []
    },
    {
      "cell_type": "code",
      "metadata": {
        "id": "453gCaexVqnu"
      },
      "source": [
        "df5=pd.read_csv(\"semi_processed_4.csv\")"
      ],
      "execution_count": 57,
      "outputs": []
    },
    {
      "cell_type": "code",
      "metadata": {
        "colab": {
          "base_uri": "https://localhost:8080/"
        },
        "id": "fjFk9pjqWI8U",
        "outputId": "4b529226-dce2-4f35-e1c4-6ec44cd46231"
      },
      "source": [
        "df5.info()"
      ],
      "execution_count": 58,
      "outputs": [
        {
          "output_type": "stream",
          "text": [
            "<class 'pandas.core.frame.DataFrame'>\n",
            "RangeIndex: 23292 entries, 0 to 23291\n",
            "Data columns (total 20 columns):\n",
            " #   Column                    Non-Null Count  Dtype  \n",
            "---  ------                    --------------  -----  \n",
            " 0   ActionPerformed           23292 non-null  object \n",
            " 1   ConnectionClassification  23292 non-null  int64  \n",
            " 2   Priority                  23292 non-null  int64  \n",
            " 3   Date-Time                 23292 non-null  int64  \n",
            " 4   SourceIP                  23292 non-null  object \n",
            " 5   SourcePort                23292 non-null  int64  \n",
            " 6   DestinationIP             23292 non-null  object \n",
            " 7   DestinationPort           23292 non-null  int64  \n",
            " 8   TimeToLive                23292 non-null  int64  \n",
            " 9   TypeOfService             23292 non-null  object \n",
            " 10  DataGramLength            23292 non-null  int64  \n",
            " 11  AllFlags                  23292 non-null  object \n",
            " 12  Seq                       23292 non-null  object \n",
            " 13  Ack                       23292 non-null  object \n",
            " 14  Win                       23292 non-null  object \n",
            " 15  TCP_length                23292 non-null  float64\n",
            " 16  TCP_Options               23292 non-null  float64\n",
            " 17  NOP_NOP_TS                23292 non-null  int64  \n",
            " 18  MSS                       23292 non-null  int64  \n",
            " 19  NOP_WS                    23292 non-null  int64  \n",
            "dtypes: float64(2), int64(10), object(8)\n",
            "memory usage: 3.6+ MB\n"
          ],
          "name": "stdout"
        }
      ]
    },
    {
      "cell_type": "code",
      "metadata": {
        "id": "hY2uu2pfWKjL"
      },
      "source": [
        "from sklearn.preprocessing import  MinMaxScaler"
      ],
      "execution_count": 59,
      "outputs": []
    },
    {
      "cell_type": "code",
      "metadata": {
        "id": "HphXqDlpW819"
      },
      "source": [
        "mn=MinMaxScaler()"
      ],
      "execution_count": 60,
      "outputs": []
    },
    {
      "cell_type": "code",
      "metadata": {
        "id": "DWc6Bp4jW_rj"
      },
      "source": [
        "df5[[\"NOP_NOP_TS\"]] = mn.fit_transform(df5[[\"NOP_NOP_TS\"]])"
      ],
      "execution_count": 61,
      "outputs": []
    },
    {
      "cell_type": "code",
      "metadata": {
        "id": "-BtZS0vbXMae"
      },
      "source": [
        "df5[[\"SourcePort\"]] = mn.fit_transform(df5[[\"SourcePort\"]])"
      ],
      "execution_count": 62,
      "outputs": []
    },
    {
      "cell_type": "code",
      "metadata": {
        "id": "HbVrbXAtXiut"
      },
      "source": [
        "df5.to_csv(\"semi_processed_5.csv\", index=False)"
      ],
      "execution_count": 63,
      "outputs": []
    },
    {
      "cell_type": "code",
      "metadata": {
        "id": "isjsBAaUZYmm"
      },
      "source": [
        ""
      ],
      "execution_count": 63,
      "outputs": []
    },
    {
      "cell_type": "code",
      "metadata": {
        "id": "xcSeJYVXXVkC"
      },
      "source": [
        "df55=pd.read_csv(\"semi_processed_5.csv\")"
      ],
      "execution_count": 64,
      "outputs": []
    },
    {
      "cell_type": "code",
      "metadata": {
        "colab": {
          "base_uri": "https://localhost:8080/"
        },
        "id": "EGmMiUaiZxLd",
        "outputId": "a9c9c6a7-a033-4aa5-ed07-f7f658191a6f"
      },
      "source": [
        "df55.columns"
      ],
      "execution_count": 65,
      "outputs": [
        {
          "output_type": "execute_result",
          "data": {
            "text/plain": [
              "Index(['ActionPerformed', 'ConnectionClassification', 'Priority', 'Date-Time',\n",
              "       'SourceIP', 'SourcePort', 'DestinationIP', 'DestinationPort',\n",
              "       'TimeToLive', 'TypeOfService', 'DataGramLength', 'AllFlags', 'Seq',\n",
              "       'Ack', 'Win', 'TCP_length', 'TCP_Options', 'NOP_NOP_TS', 'MSS',\n",
              "       'NOP_WS'],\n",
              "      dtype='object')"
            ]
          },
          "metadata": {
            "tags": []
          },
          "execution_count": 65
        }
      ]
    },
    {
      "cell_type": "code",
      "metadata": {
        "id": "j972ilGmZrEX"
      },
      "source": [
        "df555=pd.get_dummies(data=df55, columns=['ActionPerformed', 'Priority', 'Date-Time',\n",
        "       'SourceIP','DestinationIP', 'DestinationPort',\n",
        "       'TimeToLive', 'TypeOfService', 'DataGramLength', 'AllFlags', 'Seq',\n",
        "       'Ack', 'Win', 'TCP_length', 'TCP_Options','MSS',\n",
        "       'NOP_WS'], drop_first=True)"
      ],
      "execution_count": 66,
      "outputs": []
    },
    {
      "cell_type": "code",
      "metadata": {
        "colab": {
          "base_uri": "https://localhost:8080/",
          "height": 336
        },
        "id": "PsZczPG5al0X",
        "outputId": "eb151b20-d19e-465c-e137-3ac178122c99"
      },
      "source": [
        "df555.head()"
      ],
      "execution_count": 67,
      "outputs": [
        {
          "output_type": "execute_result",
          "data": {
            "text/html": [
              "<div>\n",
              "<style scoped>\n",
              "    .dataframe tbody tr th:only-of-type {\n",
              "        vertical-align: middle;\n",
              "    }\n",
              "\n",
              "    .dataframe tbody tr th {\n",
              "        vertical-align: top;\n",
              "    }\n",
              "\n",
              "    .dataframe thead th {\n",
              "        text-align: right;\n",
              "    }\n",
              "</style>\n",
              "<table border=\"1\" class=\"dataframe\">\n",
              "  <thead>\n",
              "    <tr style=\"text-align: right;\">\n",
              "      <th></th>\n",
              "      <th>ConnectionClassification</th>\n",
              "      <th>SourcePort</th>\n",
              "      <th>NOP_NOP_TS</th>\n",
              "      <th>ActionPerformed_ (http_inspect) BARE BYTE UNICODE ENCODING</th>\n",
              "      <th>ActionPerformed_ (http_inspect) DOUBLE DECODING ATTACK</th>\n",
              "      <th>ActionPerformed_ (http_inspect) IIS UNICODE CODEPOINT ENCODING</th>\n",
              "      <th>ActionPerformed_ (http_inspect) OVERSIZE CHUNK ENCODING</th>\n",
              "      <th>ActionPerformed_ (http_inspect) OVERSIZE REQUEST-URI DIRECTORY</th>\n",
              "      <th>ActionPerformed_ (http_inspect) U ENCODING</th>\n",
              "      <th>ActionPerformed_ (http_inspect) WEBROOT DIRECTORY TRAVERSAL</th>\n",
              "      <th>ActionPerformed_ (smtp) Attempted header name buffer overflow: 121 chars before colon</th>\n",
              "      <th>ActionPerformed_ (smtp) Attempted header name buffer overflow: 192 chars before colon</th>\n",
              "      <th>ActionPerformed_ (smtp) Attempted header name buffer overflow: 274 chars before colon</th>\n",
              "      <th>ActionPerformed_ (smtp) Attempted header name buffer overflow: 298 chars before colon</th>\n",
              "      <th>ActionPerformed_ (smtp) Attempted header name buffer overflow: 73 chars before colon</th>\n",
              "      <th>ActionPerformed_ (smtp) Attempted header name buffer overflow: 74 chars before colon</th>\n",
              "      <th>ActionPerformed_ (smtp) Attempted specific command buffer overflow: ETRN  507 chars</th>\n",
              "      <th>ActionPerformed_ (smtp) Attempted specific command buffer overflow: EXPN  2320 chars</th>\n",
              "      <th>ActionPerformed_ (smtp) Attempted specific command buffer overflow: HELO  1507 chars</th>\n",
              "      <th>ActionPerformed_ (smtp) Attempted specific command buffer overflow: HELO  2320 chars</th>\n",
              "      <th>ActionPerformed_ (smtp) Attempted specific command buffer overflow: HELO  517 chars</th>\n",
              "      <th>ActionPerformed_ (smtp) Attempted specific command buffer overflow: HELP  2320 chars</th>\n",
              "      <th>ActionPerformed_ (smtp) Attempted specific command buffer overflow: MAIL  2320 chars</th>\n",
              "      <th>ActionPerformed_ (smtp) Attempted specific command buffer overflow: VRFY  2320 chars</th>\n",
              "      <th>ActionPerformed_ BACKDOOR sensepost.exe command shell attempt</th>\n",
              "      <th>ActionPerformed_ Bad segment  adjusted size &lt;= 0</th>\n",
              "      <th>ActionPerformed_ Data sent on stream after TCP Reset</th>\n",
              "      <th>ActionPerformed_ Data sent on stream not accepting data</th>\n",
              "      <th>ActionPerformed_ ET EXPLOIT Awstats Remote Code Execution Attempt</th>\n",
              "      <th>ActionPerformed_ ET EXPLOIT XML-RPC for PHP Remote Code Injection</th>\n",
              "      <th>ActionPerformed_ ET EXPLOIT x86 PexFnstenvMov/Sub Encoder</th>\n",
              "      <th>ActionPerformed_ ET Exploit Suspected PHP Injection Attack</th>\n",
              "      <th>ActionPerformed_ ET SCAN Brute Force Exploit Detector HTTP Buffer Overflow Detection</th>\n",
              "      <th>ActionPerformed_ ET SCAN Halberd Load Balanced Webserver Detection Scan</th>\n",
              "      <th>ActionPerformed_ ET SCAN NMAP -f -sS</th>\n",
              "      <th>ActionPerformed_ ET SCAN NMAP -sA (2)</th>\n",
              "      <th>ActionPerformed_ ET SCAN NMAP -sS</th>\n",
              "      <th>ActionPerformed_ ET SCAN Nessus User Agent</th>\n",
              "      <th>ActionPerformed_ ET SCAN Nikto Web App Scan in Progress</th>\n",
              "      <th>ActionPerformed_ ET SCAN w3af User Agent</th>\n",
              "      <th>...</th>\n",
              "      <th>Win_0xFD85</th>\n",
              "      <th>Win_0xFD8E</th>\n",
              "      <th>Win_0xFD91</th>\n",
              "      <th>Win_0xFDA5</th>\n",
              "      <th>Win_0xFDBA</th>\n",
              "      <th>Win_0xFDC0</th>\n",
              "      <th>Win_0xFDC4</th>\n",
              "      <th>Win_0xFDD3</th>\n",
              "      <th>Win_0xFDD7</th>\n",
              "      <th>Win_0xFDFA</th>\n",
              "      <th>Win_0xFE03</th>\n",
              "      <th>Win_0xFE05</th>\n",
              "      <th>Win_0xFE12</th>\n",
              "      <th>Win_0xFE1B</th>\n",
              "      <th>Win_0xFE2A</th>\n",
              "      <th>Win_0xFE5D</th>\n",
              "      <th>Win_0xFEAB</th>\n",
              "      <th>Win_0xFEB1</th>\n",
              "      <th>Win_0xFEBD</th>\n",
              "      <th>Win_0xFED8</th>\n",
              "      <th>Win_0xFEFF</th>\n",
              "      <th>Win_0xFF09</th>\n",
              "      <th>Win_0xFF3F</th>\n",
              "      <th>Win_0xFF49</th>\n",
              "      <th>Win_0xFF78</th>\n",
              "      <th>Win_0xFF85</th>\n",
              "      <th>Win_0xFF98</th>\n",
              "      <th>Win_0xFFDA</th>\n",
              "      <th>Win_0xFFFF</th>\n",
              "      <th>TCP_length_24.0</th>\n",
              "      <th>TCP_length_28.0</th>\n",
              "      <th>TCP_length_32.0</th>\n",
              "      <th>TCP_length_40.0</th>\n",
              "      <th>TCP_Options_1.0</th>\n",
              "      <th>TCP_Options_3.0</th>\n",
              "      <th>TCP_Options_5.0</th>\n",
              "      <th>MSS_1160</th>\n",
              "      <th>MSS_1460</th>\n",
              "      <th>NOP_WS_3</th>\n",
              "      <th>NOP_WS_6</th>\n",
              "    </tr>\n",
              "  </thead>\n",
              "  <tbody>\n",
              "    <tr>\n",
              "      <th>0</th>\n",
              "      <td>0</td>\n",
              "      <td>0.88170</td>\n",
              "      <td>0.000000</td>\n",
              "      <td>0</td>\n",
              "      <td>0</td>\n",
              "      <td>0</td>\n",
              "      <td>0</td>\n",
              "      <td>0</td>\n",
              "      <td>0</td>\n",
              "      <td>0</td>\n",
              "      <td>0</td>\n",
              "      <td>0</td>\n",
              "      <td>0</td>\n",
              "      <td>0</td>\n",
              "      <td>0</td>\n",
              "      <td>0</td>\n",
              "      <td>0</td>\n",
              "      <td>0</td>\n",
              "      <td>0</td>\n",
              "      <td>0</td>\n",
              "      <td>0</td>\n",
              "      <td>0</td>\n",
              "      <td>0</td>\n",
              "      <td>0</td>\n",
              "      <td>0</td>\n",
              "      <td>0</td>\n",
              "      <td>0</td>\n",
              "      <td>0</td>\n",
              "      <td>0</td>\n",
              "      <td>0</td>\n",
              "      <td>0</td>\n",
              "      <td>0</td>\n",
              "      <td>0</td>\n",
              "      <td>0</td>\n",
              "      <td>0</td>\n",
              "      <td>0</td>\n",
              "      <td>0</td>\n",
              "      <td>0</td>\n",
              "      <td>0</td>\n",
              "      <td>0</td>\n",
              "      <td>...</td>\n",
              "      <td>0</td>\n",
              "      <td>0</td>\n",
              "      <td>0</td>\n",
              "      <td>0</td>\n",
              "      <td>0</td>\n",
              "      <td>0</td>\n",
              "      <td>0</td>\n",
              "      <td>0</td>\n",
              "      <td>0</td>\n",
              "      <td>0</td>\n",
              "      <td>0</td>\n",
              "      <td>0</td>\n",
              "      <td>0</td>\n",
              "      <td>0</td>\n",
              "      <td>0</td>\n",
              "      <td>0</td>\n",
              "      <td>0</td>\n",
              "      <td>0</td>\n",
              "      <td>0</td>\n",
              "      <td>0</td>\n",
              "      <td>0</td>\n",
              "      <td>0</td>\n",
              "      <td>0</td>\n",
              "      <td>0</td>\n",
              "      <td>0</td>\n",
              "      <td>0</td>\n",
              "      <td>0</td>\n",
              "      <td>0</td>\n",
              "      <td>0</td>\n",
              "      <td>0</td>\n",
              "      <td>0</td>\n",
              "      <td>0</td>\n",
              "      <td>0</td>\n",
              "      <td>0</td>\n",
              "      <td>0</td>\n",
              "      <td>0</td>\n",
              "      <td>0</td>\n",
              "      <td>0</td>\n",
              "      <td>0</td>\n",
              "      <td>0</td>\n",
              "    </tr>\n",
              "    <tr>\n",
              "      <th>1</th>\n",
              "      <td>0</td>\n",
              "      <td>0.00000</td>\n",
              "      <td>0.000000</td>\n",
              "      <td>0</td>\n",
              "      <td>0</td>\n",
              "      <td>0</td>\n",
              "      <td>0</td>\n",
              "      <td>0</td>\n",
              "      <td>0</td>\n",
              "      <td>0</td>\n",
              "      <td>0</td>\n",
              "      <td>0</td>\n",
              "      <td>0</td>\n",
              "      <td>0</td>\n",
              "      <td>0</td>\n",
              "      <td>0</td>\n",
              "      <td>0</td>\n",
              "      <td>0</td>\n",
              "      <td>0</td>\n",
              "      <td>0</td>\n",
              "      <td>0</td>\n",
              "      <td>0</td>\n",
              "      <td>0</td>\n",
              "      <td>0</td>\n",
              "      <td>0</td>\n",
              "      <td>0</td>\n",
              "      <td>0</td>\n",
              "      <td>0</td>\n",
              "      <td>0</td>\n",
              "      <td>0</td>\n",
              "      <td>0</td>\n",
              "      <td>0</td>\n",
              "      <td>0</td>\n",
              "      <td>0</td>\n",
              "      <td>0</td>\n",
              "      <td>0</td>\n",
              "      <td>0</td>\n",
              "      <td>0</td>\n",
              "      <td>0</td>\n",
              "      <td>0</td>\n",
              "      <td>...</td>\n",
              "      <td>0</td>\n",
              "      <td>0</td>\n",
              "      <td>0</td>\n",
              "      <td>0</td>\n",
              "      <td>0</td>\n",
              "      <td>0</td>\n",
              "      <td>0</td>\n",
              "      <td>0</td>\n",
              "      <td>0</td>\n",
              "      <td>0</td>\n",
              "      <td>0</td>\n",
              "      <td>0</td>\n",
              "      <td>0</td>\n",
              "      <td>0</td>\n",
              "      <td>0</td>\n",
              "      <td>0</td>\n",
              "      <td>0</td>\n",
              "      <td>0</td>\n",
              "      <td>0</td>\n",
              "      <td>0</td>\n",
              "      <td>0</td>\n",
              "      <td>0</td>\n",
              "      <td>0</td>\n",
              "      <td>0</td>\n",
              "      <td>0</td>\n",
              "      <td>0</td>\n",
              "      <td>0</td>\n",
              "      <td>0</td>\n",
              "      <td>0</td>\n",
              "      <td>0</td>\n",
              "      <td>0</td>\n",
              "      <td>0</td>\n",
              "      <td>0</td>\n",
              "      <td>0</td>\n",
              "      <td>0</td>\n",
              "      <td>0</td>\n",
              "      <td>0</td>\n",
              "      <td>0</td>\n",
              "      <td>0</td>\n",
              "      <td>0</td>\n",
              "    </tr>\n",
              "    <tr>\n",
              "      <th>2</th>\n",
              "      <td>0</td>\n",
              "      <td>0.00000</td>\n",
              "      <td>0.000000</td>\n",
              "      <td>0</td>\n",
              "      <td>0</td>\n",
              "      <td>0</td>\n",
              "      <td>0</td>\n",
              "      <td>0</td>\n",
              "      <td>0</td>\n",
              "      <td>0</td>\n",
              "      <td>0</td>\n",
              "      <td>0</td>\n",
              "      <td>0</td>\n",
              "      <td>0</td>\n",
              "      <td>0</td>\n",
              "      <td>0</td>\n",
              "      <td>0</td>\n",
              "      <td>0</td>\n",
              "      <td>0</td>\n",
              "      <td>0</td>\n",
              "      <td>0</td>\n",
              "      <td>0</td>\n",
              "      <td>0</td>\n",
              "      <td>0</td>\n",
              "      <td>0</td>\n",
              "      <td>0</td>\n",
              "      <td>0</td>\n",
              "      <td>0</td>\n",
              "      <td>0</td>\n",
              "      <td>0</td>\n",
              "      <td>0</td>\n",
              "      <td>0</td>\n",
              "      <td>0</td>\n",
              "      <td>0</td>\n",
              "      <td>0</td>\n",
              "      <td>0</td>\n",
              "      <td>0</td>\n",
              "      <td>0</td>\n",
              "      <td>0</td>\n",
              "      <td>0</td>\n",
              "      <td>...</td>\n",
              "      <td>0</td>\n",
              "      <td>0</td>\n",
              "      <td>0</td>\n",
              "      <td>0</td>\n",
              "      <td>0</td>\n",
              "      <td>0</td>\n",
              "      <td>0</td>\n",
              "      <td>0</td>\n",
              "      <td>0</td>\n",
              "      <td>0</td>\n",
              "      <td>0</td>\n",
              "      <td>0</td>\n",
              "      <td>0</td>\n",
              "      <td>0</td>\n",
              "      <td>0</td>\n",
              "      <td>0</td>\n",
              "      <td>0</td>\n",
              "      <td>0</td>\n",
              "      <td>0</td>\n",
              "      <td>0</td>\n",
              "      <td>0</td>\n",
              "      <td>0</td>\n",
              "      <td>0</td>\n",
              "      <td>0</td>\n",
              "      <td>0</td>\n",
              "      <td>0</td>\n",
              "      <td>0</td>\n",
              "      <td>0</td>\n",
              "      <td>0</td>\n",
              "      <td>0</td>\n",
              "      <td>0</td>\n",
              "      <td>0</td>\n",
              "      <td>0</td>\n",
              "      <td>0</td>\n",
              "      <td>0</td>\n",
              "      <td>0</td>\n",
              "      <td>0</td>\n",
              "      <td>0</td>\n",
              "      <td>0</td>\n",
              "      <td>0</td>\n",
              "    </tr>\n",
              "    <tr>\n",
              "      <th>3</th>\n",
              "      <td>0</td>\n",
              "      <td>0.00084</td>\n",
              "      <td>0.007031</td>\n",
              "      <td>0</td>\n",
              "      <td>0</td>\n",
              "      <td>0</td>\n",
              "      <td>0</td>\n",
              "      <td>0</td>\n",
              "      <td>0</td>\n",
              "      <td>0</td>\n",
              "      <td>0</td>\n",
              "      <td>0</td>\n",
              "      <td>0</td>\n",
              "      <td>0</td>\n",
              "      <td>0</td>\n",
              "      <td>0</td>\n",
              "      <td>0</td>\n",
              "      <td>0</td>\n",
              "      <td>0</td>\n",
              "      <td>0</td>\n",
              "      <td>0</td>\n",
              "      <td>0</td>\n",
              "      <td>0</td>\n",
              "      <td>0</td>\n",
              "      <td>0</td>\n",
              "      <td>0</td>\n",
              "      <td>0</td>\n",
              "      <td>0</td>\n",
              "      <td>0</td>\n",
              "      <td>0</td>\n",
              "      <td>0</td>\n",
              "      <td>0</td>\n",
              "      <td>0</td>\n",
              "      <td>0</td>\n",
              "      <td>0</td>\n",
              "      <td>0</td>\n",
              "      <td>0</td>\n",
              "      <td>0</td>\n",
              "      <td>0</td>\n",
              "      <td>0</td>\n",
              "      <td>...</td>\n",
              "      <td>0</td>\n",
              "      <td>0</td>\n",
              "      <td>0</td>\n",
              "      <td>0</td>\n",
              "      <td>0</td>\n",
              "      <td>0</td>\n",
              "      <td>0</td>\n",
              "      <td>0</td>\n",
              "      <td>0</td>\n",
              "      <td>0</td>\n",
              "      <td>0</td>\n",
              "      <td>0</td>\n",
              "      <td>0</td>\n",
              "      <td>0</td>\n",
              "      <td>0</td>\n",
              "      <td>0</td>\n",
              "      <td>0</td>\n",
              "      <td>0</td>\n",
              "      <td>0</td>\n",
              "      <td>0</td>\n",
              "      <td>0</td>\n",
              "      <td>0</td>\n",
              "      <td>0</td>\n",
              "      <td>0</td>\n",
              "      <td>0</td>\n",
              "      <td>0</td>\n",
              "      <td>0</td>\n",
              "      <td>0</td>\n",
              "      <td>0</td>\n",
              "      <td>0</td>\n",
              "      <td>0</td>\n",
              "      <td>1</td>\n",
              "      <td>0</td>\n",
              "      <td>0</td>\n",
              "      <td>1</td>\n",
              "      <td>0</td>\n",
              "      <td>0</td>\n",
              "      <td>0</td>\n",
              "      <td>0</td>\n",
              "      <td>0</td>\n",
              "    </tr>\n",
              "    <tr>\n",
              "      <th>4</th>\n",
              "      <td>0</td>\n",
              "      <td>0.00084</td>\n",
              "      <td>0.007031</td>\n",
              "      <td>0</td>\n",
              "      <td>0</td>\n",
              "      <td>0</td>\n",
              "      <td>0</td>\n",
              "      <td>0</td>\n",
              "      <td>0</td>\n",
              "      <td>0</td>\n",
              "      <td>0</td>\n",
              "      <td>0</td>\n",
              "      <td>0</td>\n",
              "      <td>0</td>\n",
              "      <td>0</td>\n",
              "      <td>0</td>\n",
              "      <td>0</td>\n",
              "      <td>0</td>\n",
              "      <td>0</td>\n",
              "      <td>0</td>\n",
              "      <td>0</td>\n",
              "      <td>0</td>\n",
              "      <td>0</td>\n",
              "      <td>0</td>\n",
              "      <td>0</td>\n",
              "      <td>0</td>\n",
              "      <td>0</td>\n",
              "      <td>0</td>\n",
              "      <td>0</td>\n",
              "      <td>0</td>\n",
              "      <td>0</td>\n",
              "      <td>0</td>\n",
              "      <td>0</td>\n",
              "      <td>0</td>\n",
              "      <td>0</td>\n",
              "      <td>0</td>\n",
              "      <td>0</td>\n",
              "      <td>0</td>\n",
              "      <td>0</td>\n",
              "      <td>0</td>\n",
              "      <td>...</td>\n",
              "      <td>0</td>\n",
              "      <td>0</td>\n",
              "      <td>0</td>\n",
              "      <td>0</td>\n",
              "      <td>0</td>\n",
              "      <td>0</td>\n",
              "      <td>0</td>\n",
              "      <td>0</td>\n",
              "      <td>0</td>\n",
              "      <td>0</td>\n",
              "      <td>0</td>\n",
              "      <td>0</td>\n",
              "      <td>0</td>\n",
              "      <td>0</td>\n",
              "      <td>0</td>\n",
              "      <td>0</td>\n",
              "      <td>0</td>\n",
              "      <td>0</td>\n",
              "      <td>0</td>\n",
              "      <td>0</td>\n",
              "      <td>0</td>\n",
              "      <td>0</td>\n",
              "      <td>0</td>\n",
              "      <td>0</td>\n",
              "      <td>0</td>\n",
              "      <td>0</td>\n",
              "      <td>0</td>\n",
              "      <td>0</td>\n",
              "      <td>0</td>\n",
              "      <td>0</td>\n",
              "      <td>0</td>\n",
              "      <td>1</td>\n",
              "      <td>0</td>\n",
              "      <td>0</td>\n",
              "      <td>1</td>\n",
              "      <td>0</td>\n",
              "      <td>0</td>\n",
              "      <td>0</td>\n",
              "      <td>0</td>\n",
              "      <td>0</td>\n",
              "    </tr>\n",
              "  </tbody>\n",
              "</table>\n",
              "<p>5 rows × 39464 columns</p>\n",
              "</div>"
            ],
            "text/plain": [
              "   ConnectionClassification  SourcePort  ...  NOP_WS_3  NOP_WS_6\n",
              "0                         0     0.88170  ...         0         0\n",
              "1                         0     0.00000  ...         0         0\n",
              "2                         0     0.00000  ...         0         0\n",
              "3                         0     0.00084  ...         0         0\n",
              "4                         0     0.00084  ...         0         0\n",
              "\n",
              "[5 rows x 39464 columns]"
            ]
          },
          "metadata": {
            "tags": []
          },
          "execution_count": 67
        }
      ]
    },
    {
      "cell_type": "code",
      "metadata": {
        "colab": {
          "base_uri": "https://localhost:8080/"
        },
        "id": "Eo83xTF_bVwM",
        "outputId": "f10beec3-9635-4743-bc96-105621f52580"
      },
      "source": [
        "df555.columns"
      ],
      "execution_count": 68,
      "outputs": [
        {
          "output_type": "execute_result",
          "data": {
            "text/plain": [
              "Index(['ConnectionClassification', 'SourcePort', 'NOP_NOP_TS',\n",
              "       'ActionPerformed_ (http_inspect) BARE BYTE UNICODE ENCODING  ',\n",
              "       'ActionPerformed_ (http_inspect) DOUBLE DECODING ATTACK  ',\n",
              "       'ActionPerformed_ (http_inspect) IIS UNICODE CODEPOINT ENCODING  ',\n",
              "       'ActionPerformed_ (http_inspect) OVERSIZE CHUNK ENCODING  ',\n",
              "       'ActionPerformed_ (http_inspect) OVERSIZE REQUEST-URI DIRECTORY  ',\n",
              "       'ActionPerformed_ (http_inspect) U ENCODING  ',\n",
              "       'ActionPerformed_ (http_inspect) WEBROOT DIRECTORY TRAVERSAL  ',\n",
              "       ...\n",
              "       'TCP_length_28.0', 'TCP_length_32.0', 'TCP_length_40.0',\n",
              "       'TCP_Options_1.0', 'TCP_Options_3.0', 'TCP_Options_5.0', 'MSS_1160',\n",
              "       'MSS_1460', 'NOP_WS_3', 'NOP_WS_6'],\n",
              "      dtype='object', length=39464)"
            ]
          },
          "metadata": {
            "tags": []
          },
          "execution_count": 68
        }
      ]
    }
  ]
}